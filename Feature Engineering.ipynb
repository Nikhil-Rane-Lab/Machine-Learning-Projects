{
 "cells": [
  {
   "cell_type": "code",
   "execution_count": 1,
   "metadata": {},
   "outputs": [],
   "source": [
    "# this is specific to macos X , windows/linux users dont need this \n",
    "# without this , while using xgboost , you get errors , kernel dies\n",
    "import os\n",
    "\n",
    "os.environ['KMP_DUPLICATE_LIB_OK']='True'"
   ]
  },
  {
   "cell_type": "code",
   "execution_count": 2,
   "metadata": {},
   "outputs": [],
   "source": [
    "import warnings\n",
    "warnings.filterwarnings('ignore')"
   ]
  },
  {
   "cell_type": "code",
   "execution_count": 3,
   "metadata": {},
   "outputs": [],
   "source": [
    "import numpy as np\n",
    "import seaborn as sns\n",
    "import pandas as pd\n",
    "import math as mt"
   ]
  },
  {
   "cell_type": "code",
   "execution_count": 4,
   "metadata": {},
   "outputs": [],
   "source": [
    "from sklearn.base import BaseEstimator, TransformerMixin"
   ]
  },
  {
   "cell_type": "code",
   "execution_count": 5,
   "metadata": {},
   "outputs": [
    {
     "name": "stderr",
     "output_type": "stream",
     "text": [
      "Using TensorFlow backend.\n"
     ]
    }
   ],
   "source": [
    "from keras.models import Model,Sequential\n",
    "from keras.layers import Dense,Input"
   ]
  },
  {
   "cell_type": "code",
   "execution_count": 6,
   "metadata": {},
   "outputs": [],
   "source": [
    "from rfpimp import *\n",
    "from sklearn.ensemble import RandomForestRegressor\n",
    "from sklearn.model_selection import train_test_split\n",
    "from xgboost.sklearn import XGBRegressor\n",
    "from sklearn.svm import SVR\n",
    "from sklearn.metrics import mean_absolute_error"
   ]
  },
  {
   "cell_type": "markdown",
   "metadata": {},
   "source": [
    "## Coding categorical features as dummies "
   ]
  },
  {
   "cell_type": "code",
   "execution_count": 7,
   "metadata": {},
   "outputs": [],
   "source": [
    "def code_categorical_to_dummies(dt,columns,freq_cutoff=0):\n",
    "    data=dt.copy()\n",
    "    for col in columns:\n",
    "        \n",
    "        freq_table=data[col].value_counts(dropna=False)\n",
    "        \n",
    "        if (freq_table<freq_cutoff).sum()==0:\n",
    "            cats=freq_table.index[:-1]\n",
    "        else:\n",
    "            cats=freq_table.index[freq_table>freq_cutoff]\n",
    "        \n",
    "        for cat in cats:\n",
    "            data[col+'_'+str(cat)]=(data[col]==cat).astype(int)\n",
    "        \n",
    "        del data[col]\n",
    "        \n",
    "        \n",
    "    return data"
   ]
  },
  {
   "cell_type": "markdown",
   "metadata": {},
   "source": [
    "### Pipeline friendly class"
   ]
  },
  {
   "cell_type": "code",
   "execution_count": null,
   "metadata": {},
   "outputs": [],
   "source": [
    "class get_dummies_Pipe(BaseEstimator, TransformerMixin):\n",
    "    \n",
    "    def __init__(self,freq_cutoff=0):\n",
    "        self.freq_cutoff=freq_cutoff\n",
    "        self.var_cat_dict={}\n",
    "        \n",
    "    def fit(self,x,y=None):\n",
    "        data_cols=x.columns\n",
    "        for col in data_cols:\n",
    "            freq_table=x[col].value_counts(dropna=False)\n",
    "            if (freq_table<self.freq_cutoff).sum()==0:\n",
    "                cats=freq_table.index[:-1]\n",
    "            else:\n",
    "                cats=freq_table.index[freq_table>self.freq_cutoff]\n",
    "            self.var_cat_dict[col]=cats\n",
    "        return self\n",
    "            \n",
    "    def transform(self,x,y=None):\n",
    "        dummy_data=x.copy()\n",
    "        for col in self.var_cat_dict.keys():\n",
    "            for cat in self.var_cat_dict[col]:\n",
    "                name=col+'_'+str(cat)\n",
    "                dummy_data[name]=(dummy_data[col]==cat).astype(int)\n",
    "            del dummy_data[col]\n",
    "        return dummy_data"
   ]
  },
  {
   "cell_type": "code",
   "execution_count": null,
   "metadata": {},
   "outputs": [],
   "source": [
    "d1=pd.DataFrame({'x':['a','b','a','b','c','c']})\n",
    "d2=pd.DataFrame({'x':['a','b','a','b','c','c','d','d','d']})"
   ]
  },
  {
   "cell_type": "code",
   "execution_count": null,
   "metadata": {},
   "outputs": [],
   "source": [
    "code_categorical_to_dummies(d1,'x')"
   ]
  },
  {
   "cell_type": "code",
   "execution_count": null,
   "metadata": {},
   "outputs": [],
   "source": [
    "code_categorical_to_dummies(d2,'x')"
   ]
  },
  {
   "cell_type": "code",
   "execution_count": null,
   "metadata": {},
   "outputs": [],
   "source": [
    "gd=get_dummies_Pipe()"
   ]
  },
  {
   "cell_type": "code",
   "execution_count": null,
   "metadata": {},
   "outputs": [],
   "source": [
    "gd.fit(d1)"
   ]
  },
  {
   "cell_type": "code",
   "execution_count": null,
   "metadata": {},
   "outputs": [],
   "source": [
    "gd.var_cat_dict"
   ]
  },
  {
   "cell_type": "code",
   "execution_count": null,
   "metadata": {},
   "outputs": [],
   "source": [
    "gd.transform(d1)"
   ]
  },
  {
   "cell_type": "code",
   "execution_count": null,
   "metadata": {},
   "outputs": [],
   "source": [
    "gd.transform(d2)"
   ]
  },
  {
   "cell_type": "markdown",
   "metadata": {},
   "source": [
    "## Categorical Embeddings"
   ]
  },
  {
   "cell_type": "code",
   "execution_count": 9,
   "metadata": {},
   "outputs": [
    {
     "data": {
      "text/plain": [
       "47"
      ]
     },
     "execution_count": 9,
     "metadata": {},
     "output_type": "execute_result"
    }
   ],
   "source": [
    "\n",
    "file = r'/Users/lalitsachan/Dropbox/0.0 Data/loans data.csv'\n",
    "data=pd.read_csv(file)\n",
    "data['State'].nunique()"
   ]
  },
  {
   "cell_type": "code",
   "execution_count": null,
   "metadata": {},
   "outputs": [],
   "source": [
    "dummy_data=pd.get_dummies(data['State'],prefix='State')\n",
    "dummy_data.shape[1]"
   ]
  },
  {
   "cell_type": "code",
   "execution_count": null,
   "metadata": {},
   "outputs": [],
   "source": [
    "y=dummy_data"
   ]
  },
  {
   "cell_type": "code",
   "execution_count": null,
   "metadata": {},
   "outputs": [],
   "source": [
    "data['State'].nunique()"
   ]
  },
  {
   "cell_type": "code",
   "execution_count": null,
   "metadata": {},
   "outputs": [],
   "source": [
    "y.shape"
   ]
  },
  {
   "cell_type": "code",
   "execution_count": null,
   "metadata": {},
   "outputs": [],
   "source": [
    "embedding_dim=3\n",
    "\n",
    "inputs=Input(shape=(dummy_data.shape[1],))\n",
    "\n",
    "dense1=Dense(20,activation='relu')(inputs)\n",
    "\n",
    "embedded_output=Dense(embedding_dim)(dense1)\n",
    "\n",
    "outputs=Dense(dummy_data.shape[1],activation='softmax')(embedded_output)\n",
    "model=Model(inputs=inputs,outputs=outputs)\n",
    "\n",
    "embedder=Model(inputs=inputs,outputs=embedded_output)"
   ]
  },
  {
   "cell_type": "code",
   "execution_count": null,
   "metadata": {},
   "outputs": [],
   "source": [
    "model.compile(optimizer='adam',loss='categorical_crossentropy',metrics=['accuracy'])\n",
    "model.fit(dummy_data,y,epochs=150,batch_size=100)"
   ]
  },
  {
   "cell_type": "code",
   "execution_count": null,
   "metadata": {},
   "outputs": [],
   "source": [
    "low_dim=pd.DataFrame(embedder.predict(dummy_data),columns=['emb1','emb2','emb3'])\n",
    "low_dim.head()"
   ]
  },
  {
   "cell_type": "code",
   "execution_count": null,
   "metadata": {},
   "outputs": [],
   "source": [
    "low_dim"
   ]
  },
  {
   "cell_type": "code",
   "execution_count": null,
   "metadata": {},
   "outputs": [],
   "source": [
    "data['State']"
   ]
  },
  {
   "cell_type": "markdown",
   "metadata": {},
   "source": [
    "## Coding cyclic time features "
   ]
  },
  {
   "cell_type": "code",
   "execution_count": null,
   "metadata": {},
   "outputs": [],
   "source": [
    "import numpy as np"
   ]
  },
  {
   "cell_type": "code",
   "execution_count": null,
   "metadata": {},
   "outputs": [],
   "source": [
    "months=np.arange(1,13)\n",
    "months"
   ]
  },
  {
   "cell_type": "code",
   "execution_count": null,
   "metadata": {},
   "outputs": [],
   "source": [
    "months_sin=np.sin(2*np.pi*months/12)"
   ]
  },
  {
   "cell_type": "code",
   "execution_count": null,
   "metadata": {},
   "outputs": [],
   "source": [
    "sns.scatterplot(months,months_sin).plot()"
   ]
  },
  {
   "cell_type": "code",
   "execution_count": null,
   "metadata": {},
   "outputs": [],
   "source": [
    "months_cos=np.cos(2*np.pi*months/12)"
   ]
  },
  {
   "cell_type": "code",
   "execution_count": null,
   "metadata": {},
   "outputs": [],
   "source": [
    "sns.scatterplot(months_sin,months_cos).plot()"
   ]
  },
  {
   "cell_type": "code",
   "execution_count": null,
   "metadata": {},
   "outputs": [],
   "source": [
    "def code_cyclic_features(data,columns,drop_cols=True):\n",
    "    for col in columns:\n",
    "        max_val=max(data[col])\n",
    "\n",
    "        data[col+'_sin']=np.sin(2*np.pi*data[col]/max_val)\n",
    "        data[col+'_cos']=np.cos(2*np.pi*data[col]/max_val)\n",
    "\n",
    "        if drop_cols:\n",
    "            del data[col]\n",
    "    return data  "
   ]
  },
  {
   "cell_type": "markdown",
   "metadata": {},
   "source": [
    "## Revisiting feature importance and issue with default importance in sklearn"
   ]
  },
  {
   "cell_type": "code",
   "execution_count": 10,
   "metadata": {},
   "outputs": [
    {
     "data": {
      "text/html": [
       "<div>\n",
       "<style scoped>\n",
       "    .dataframe tbody tr th:only-of-type {\n",
       "        vertical-align: middle;\n",
       "    }\n",
       "\n",
       "    .dataframe tbody tr th {\n",
       "        vertical-align: top;\n",
       "    }\n",
       "\n",
       "    .dataframe thead th {\n",
       "        text-align: right;\n",
       "    }\n",
       "</style>\n",
       "<table border=\"1\" class=\"dataframe\">\n",
       "  <thead>\n",
       "    <tr style=\"text-align: right;\">\n",
       "      <th></th>\n",
       "      <th>ID</th>\n",
       "      <th>Amount.Requested</th>\n",
       "      <th>Amount.Funded.By.Investors</th>\n",
       "      <th>Interest.Rate</th>\n",
       "      <th>Loan.Length</th>\n",
       "      <th>Loan.Purpose</th>\n",
       "      <th>Debt.To.Income.Ratio</th>\n",
       "      <th>State</th>\n",
       "      <th>Home.Ownership</th>\n",
       "      <th>Monthly.Income</th>\n",
       "      <th>FICO.Range</th>\n",
       "      <th>Open.CREDIT.Lines</th>\n",
       "      <th>Revolving.CREDIT.Balance</th>\n",
       "      <th>Inquiries.in.the.Last.6.Months</th>\n",
       "      <th>Employment.Length</th>\n",
       "    </tr>\n",
       "  </thead>\n",
       "  <tbody>\n",
       "    <tr>\n",
       "      <th>0</th>\n",
       "      <td>81174.0</td>\n",
       "      <td>20000</td>\n",
       "      <td>20000</td>\n",
       "      <td>8.90%</td>\n",
       "      <td>36 months</td>\n",
       "      <td>debt_consolidation</td>\n",
       "      <td>14.90%</td>\n",
       "      <td>SC</td>\n",
       "      <td>MORTGAGE</td>\n",
       "      <td>6541.67</td>\n",
       "      <td>735-739</td>\n",
       "      <td>14</td>\n",
       "      <td>14272</td>\n",
       "      <td>2.0</td>\n",
       "      <td>&lt; 1 year</td>\n",
       "    </tr>\n",
       "    <tr>\n",
       "      <th>1</th>\n",
       "      <td>99592.0</td>\n",
       "      <td>19200</td>\n",
       "      <td>19200</td>\n",
       "      <td>12.12%</td>\n",
       "      <td>36 months</td>\n",
       "      <td>debt_consolidation</td>\n",
       "      <td>28.36%</td>\n",
       "      <td>TX</td>\n",
       "      <td>MORTGAGE</td>\n",
       "      <td>4583.33</td>\n",
       "      <td>715-719</td>\n",
       "      <td>12</td>\n",
       "      <td>11140</td>\n",
       "      <td>1.0</td>\n",
       "      <td>2 years</td>\n",
       "    </tr>\n",
       "    <tr>\n",
       "      <th>2</th>\n",
       "      <td>80059.0</td>\n",
       "      <td>35000</td>\n",
       "      <td>35000</td>\n",
       "      <td>21.98%</td>\n",
       "      <td>60 months</td>\n",
       "      <td>debt_consolidation</td>\n",
       "      <td>23.81%</td>\n",
       "      <td>CA</td>\n",
       "      <td>MORTGAGE</td>\n",
       "      <td>11500.00</td>\n",
       "      <td>690-694</td>\n",
       "      <td>14</td>\n",
       "      <td>21977</td>\n",
       "      <td>1.0</td>\n",
       "      <td>2 years</td>\n",
       "    </tr>\n",
       "    <tr>\n",
       "      <th>3</th>\n",
       "      <td>15825.0</td>\n",
       "      <td>10000</td>\n",
       "      <td>9975</td>\n",
       "      <td>9.99%</td>\n",
       "      <td>36 months</td>\n",
       "      <td>debt_consolidation</td>\n",
       "      <td>14.30%</td>\n",
       "      <td>KS</td>\n",
       "      <td>MORTGAGE</td>\n",
       "      <td>3833.33</td>\n",
       "      <td>695-699</td>\n",
       "      <td>10</td>\n",
       "      <td>9346</td>\n",
       "      <td>0.0</td>\n",
       "      <td>5 years</td>\n",
       "    </tr>\n",
       "    <tr>\n",
       "      <th>4</th>\n",
       "      <td>33182.0</td>\n",
       "      <td>12000</td>\n",
       "      <td>12000</td>\n",
       "      <td>11.71%</td>\n",
       "      <td>36 months</td>\n",
       "      <td>credit_card</td>\n",
       "      <td>18.78%</td>\n",
       "      <td>NJ</td>\n",
       "      <td>RENT</td>\n",
       "      <td>3195.00</td>\n",
       "      <td>695-699</td>\n",
       "      <td>11</td>\n",
       "      <td>14469</td>\n",
       "      <td>0.0</td>\n",
       "      <td>9 years</td>\n",
       "    </tr>\n",
       "  </tbody>\n",
       "</table>\n",
       "</div>"
      ],
      "text/plain": [
       "        ID Amount.Requested Amount.Funded.By.Investors Interest.Rate  \\\n",
       "0  81174.0            20000                      20000         8.90%   \n",
       "1  99592.0            19200                      19200        12.12%   \n",
       "2  80059.0            35000                      35000        21.98%   \n",
       "3  15825.0            10000                       9975         9.99%   \n",
       "4  33182.0            12000                      12000        11.71%   \n",
       "\n",
       "  Loan.Length        Loan.Purpose Debt.To.Income.Ratio State Home.Ownership  \\\n",
       "0   36 months  debt_consolidation               14.90%    SC       MORTGAGE   \n",
       "1   36 months  debt_consolidation               28.36%    TX       MORTGAGE   \n",
       "2   60 months  debt_consolidation               23.81%    CA       MORTGAGE   \n",
       "3   36 months  debt_consolidation               14.30%    KS       MORTGAGE   \n",
       "4   36 months         credit_card               18.78%    NJ           RENT   \n",
       "\n",
       "   Monthly.Income FICO.Range Open.CREDIT.Lines Revolving.CREDIT.Balance  \\\n",
       "0         6541.67    735-739                14                    14272   \n",
       "1         4583.33    715-719                12                    11140   \n",
       "2        11500.00    690-694                14                    21977   \n",
       "3         3833.33    695-699                10                     9346   \n",
       "4         3195.00    695-699                11                    14469   \n",
       "\n",
       "   Inquiries.in.the.Last.6.Months Employment.Length  \n",
       "0                             2.0          < 1 year  \n",
       "1                             1.0           2 years  \n",
       "2                             1.0           2 years  \n",
       "3                             0.0           5 years  \n",
       "4                             0.0           9 years  "
      ]
     },
     "execution_count": 10,
     "metadata": {},
     "output_type": "execute_result"
    }
   ],
   "source": [
    "data.head()"
   ]
  },
  {
   "cell_type": "code",
   "execution_count": 11,
   "metadata": {},
   "outputs": [],
   "source": [
    "data.drop(['ID','Amount.Funded.By.Investors'],axis=1,inplace=True)\n",
    "\n",
    "for col in ['Interest.Rate','Debt.To.Income.Ratio']:\n",
    "    data[col]=data[col].str.replace(\"%\",\"\")\n",
    "    \n",
    "    \n",
    "\n",
    "for col in ['Amount.Requested', 'Interest.Rate','Debt.To.Income.Ratio',\n",
    "            'Open.CREDIT.Lines','Revolving.CREDIT.Balance']:\n",
    "    data[col]=pd.to_numeric(data[col],errors='coerce')\n",
    "    \n",
    "\n",
    "k=data['FICO.Range'].str.split(\"-\",expand=True).astype(float)\n",
    "\n",
    "data['fico']=0.5*(k[0]+k[1])\n",
    "\n",
    "del data['FICO.Range']\n",
    "\n",
    "cat_cols=data.select_dtypes(['object']).columns\n",
    "\n",
    "data=code_categorical_to_dummies(data,cat_cols)\n",
    "\n",
    "for col in data.columns:\n",
    "    if data[col].isnull().sum()>0:\n",
    "        data.loc[data[col].isnull(),col]=data[col].mean()"
   ]
  },
  {
   "cell_type": "code",
   "execution_count": 12,
   "metadata": {},
   "outputs": [],
   "source": [
    "x_train=data.drop(['Interest.Rate'],1)\n",
    "y_train=data['Interest.Rate']"
   ]
  },
  {
   "cell_type": "code",
   "execution_count": 13,
   "metadata": {},
   "outputs": [
    {
     "data": {
      "text/plain": [
       "(2500, 88)"
      ]
     },
     "execution_count": 13,
     "metadata": {},
     "output_type": "execute_result"
    }
   ],
   "source": [
    "x_train.shape"
   ]
  },
  {
   "cell_type": "code",
   "execution_count": 14,
   "metadata": {},
   "outputs": [
    {
     "data": {
      "image/png": "[encoded data removed]",
      "text/plain": [
       "<Figure size 288x1411.2 with 1 Axes>"
      ]
     },
     "metadata": {
      "needs_background": "light"
     },
     "output_type": "display_data"
    }
   ],
   "source": [
    "# Add column of random numbers\n",
    "x_train['random'] = np.random.random(size=len(x_train))\n",
    "\n",
    "\n",
    "rf = RandomForestRegressor(n_estimators=100,\n",
    "                            min_samples_leaf=5,\n",
    "                            n_jobs=-1,\n",
    "                            oob_score=True)\n",
    "\n",
    "rf.fit(x_train,y_train)\n",
    "\n",
    "imp = importances(rf, x_train, y_train, n_samples=-1) # this function comes from package rfpimp\n",
    "viz = plot_importances(imp)\n",
    "viz.view()\n",
    "\n",
    "# it is possible that with different iterations of the code result in features at boundary switch to other side\n",
    "# dont worry about that , they dont make much difference either way [ and you have to draw a line somewhere]"
   ]
  },
  {
   "cell_type": "code",
   "execution_count": 17,
   "metadata": {},
   "outputs": [
    {
     "data": {
      "text/html": [
       "<div>\n",
       "<style scoped>\n",
       "    .dataframe tbody tr th:only-of-type {\n",
       "        vertical-align: middle;\n",
       "    }\n",
       "\n",
       "    .dataframe tbody tr th {\n",
       "        vertical-align: top;\n",
       "    }\n",
       "\n",
       "    .dataframe thead th {\n",
       "        text-align: right;\n",
       "    }\n",
       "</style>\n",
       "<table border=\"1\" class=\"dataframe\">\n",
       "  <thead>\n",
       "    <tr style=\"text-align: right;\">\n",
       "      <th></th>\n",
       "      <th>Importance</th>\n",
       "    </tr>\n",
       "    <tr>\n",
       "      <th>Feature</th>\n",
       "      <th></th>\n",
       "    </tr>\n",
       "  </thead>\n",
       "  <tbody>\n",
       "    <tr>\n",
       "      <th>fico</th>\n",
       "      <td>1.232436e+00</td>\n",
       "    </tr>\n",
       "    <tr>\n",
       "      <th>Amount.Requested</th>\n",
       "      <td>2.137498e-01</td>\n",
       "    </tr>\n",
       "    <tr>\n",
       "      <th>Loan.Length_60 months</th>\n",
       "      <td>1.631791e-01</td>\n",
       "    </tr>\n",
       "    <tr>\n",
       "      <th>Inquiries.in.the.Last.6.Months</th>\n",
       "      <td>5.446839e-02</td>\n",
       "    </tr>\n",
       "    <tr>\n",
       "      <th>Open.CREDIT.Lines</th>\n",
       "      <td>3.535306e-02</td>\n",
       "    </tr>\n",
       "    <tr>\n",
       "      <th>Loan.Length_36 months</th>\n",
       "      <td>2.463570e-02</td>\n",
       "    </tr>\n",
       "    <tr>\n",
       "      <th>Debt.To.Income.Ratio</th>\n",
       "      <td>1.614558e-02</td>\n",
       "    </tr>\n",
       "    <tr>\n",
       "      <th>Revolving.CREDIT.Balance</th>\n",
       "      <td>1.502112e-02</td>\n",
       "    </tr>\n",
       "    <tr>\n",
       "      <th>Monthly.Income</th>\n",
       "      <td>1.184924e-02</td>\n",
       "    </tr>\n",
       "    <tr>\n",
       "      <th>random</th>\n",
       "      <td>1.126233e-02</td>\n",
       "    </tr>\n",
       "    <tr>\n",
       "      <th>Home.Ownership_MORTGAGE</th>\n",
       "      <td>2.447514e-03</td>\n",
       "    </tr>\n",
       "    <tr>\n",
       "      <th>Home.Ownership_RENT</th>\n",
       "      <td>1.696858e-03</td>\n",
       "    </tr>\n",
       "    <tr>\n",
       "      <th>Loan.Purpose_debt_consolidation</th>\n",
       "      <td>1.640305e-03</td>\n",
       "    </tr>\n",
       "    <tr>\n",
       "      <th>Loan.Purpose_other</th>\n",
       "      <td>1.189444e-03</td>\n",
       "    </tr>\n",
       "    <tr>\n",
       "      <th>Employment.Length_10+ years</th>\n",
       "      <td>1.106329e-03</td>\n",
       "    </tr>\n",
       "    <tr>\n",
       "      <th>State_TX</th>\n",
       "      <td>1.041484e-03</td>\n",
       "    </tr>\n",
       "    <tr>\n",
       "      <th>Employment.Length_2 years</th>\n",
       "      <td>6.893522e-04</td>\n",
       "    </tr>\n",
       "    <tr>\n",
       "      <th>State_CA</th>\n",
       "      <td>6.133165e-04</td>\n",
       "    </tr>\n",
       "    <tr>\n",
       "      <th>Loan.Purpose_credit_card</th>\n",
       "      <td>5.159447e-04</td>\n",
       "    </tr>\n",
       "    <tr>\n",
       "      <th>Employment.Length_&lt; 1 year</th>\n",
       "      <td>3.881097e-04</td>\n",
       "    </tr>\n",
       "    <tr>\n",
       "      <th>Employment.Length_5 years</th>\n",
       "      <td>2.903741e-04</td>\n",
       "    </tr>\n",
       "    <tr>\n",
       "      <th>Loan.Purpose_small_business</th>\n",
       "      <td>2.192102e-04</td>\n",
       "    </tr>\n",
       "    <tr>\n",
       "      <th>State_FL</th>\n",
       "      <td>2.009082e-04</td>\n",
       "    </tr>\n",
       "    <tr>\n",
       "      <th>Employment.Length_3 years</th>\n",
       "      <td>1.977173e-04</td>\n",
       "    </tr>\n",
       "    <tr>\n",
       "      <th>Employment.Length_6 years</th>\n",
       "      <td>1.808418e-04</td>\n",
       "    </tr>\n",
       "    <tr>\n",
       "      <th>Employment.Length_7 years</th>\n",
       "      <td>1.323178e-04</td>\n",
       "    </tr>\n",
       "    <tr>\n",
       "      <th>Loan.Purpose_home_improvement</th>\n",
       "      <td>1.215126e-04</td>\n",
       "    </tr>\n",
       "    <tr>\n",
       "      <th>Employment.Length_1 year</th>\n",
       "      <td>9.643927e-05</td>\n",
       "    </tr>\n",
       "    <tr>\n",
       "      <th>Loan.Purpose_major_purchase</th>\n",
       "      <td>8.761956e-05</td>\n",
       "    </tr>\n",
       "    <tr>\n",
       "      <th>State_NY</th>\n",
       "      <td>8.181922e-05</td>\n",
       "    </tr>\n",
       "    <tr>\n",
       "      <th>...</th>\n",
       "      <td>...</td>\n",
       "    </tr>\n",
       "    <tr>\n",
       "      <th>State_NM</th>\n",
       "      <td>0.000000e+00</td>\n",
       "    </tr>\n",
       "    <tr>\n",
       "      <th>State_WV</th>\n",
       "      <td>0.000000e+00</td>\n",
       "    </tr>\n",
       "    <tr>\n",
       "      <th>Loan.Purpose_wedding</th>\n",
       "      <td>0.000000e+00</td>\n",
       "    </tr>\n",
       "    <tr>\n",
       "      <th>Loan.Purpose_medical</th>\n",
       "      <td>0.000000e+00</td>\n",
       "    </tr>\n",
       "    <tr>\n",
       "      <th>Loan.Purpose_moving</th>\n",
       "      <td>0.000000e+00</td>\n",
       "    </tr>\n",
       "    <tr>\n",
       "      <th>Loan.Purpose_vacation</th>\n",
       "      <td>0.000000e+00</td>\n",
       "    </tr>\n",
       "    <tr>\n",
       "      <th>Loan.Purpose_house</th>\n",
       "      <td>0.000000e+00</td>\n",
       "    </tr>\n",
       "    <tr>\n",
       "      <th>Loan.Purpose_renewable_energy</th>\n",
       "      <td>0.000000e+00</td>\n",
       "    </tr>\n",
       "    <tr>\n",
       "      <th>State_NJ</th>\n",
       "      <td>0.000000e+00</td>\n",
       "    </tr>\n",
       "    <tr>\n",
       "      <th>State_VA</th>\n",
       "      <td>0.000000e+00</td>\n",
       "    </tr>\n",
       "    <tr>\n",
       "      <th>State_MA</th>\n",
       "      <td>0.000000e+00</td>\n",
       "    </tr>\n",
       "    <tr>\n",
       "      <th>State_NC</th>\n",
       "      <td>0.000000e+00</td>\n",
       "    </tr>\n",
       "    <tr>\n",
       "      <th>State_WA</th>\n",
       "      <td>0.000000e+00</td>\n",
       "    </tr>\n",
       "    <tr>\n",
       "      <th>State_AZ</th>\n",
       "      <td>0.000000e+00</td>\n",
       "    </tr>\n",
       "    <tr>\n",
       "      <th>State_MI</th>\n",
       "      <td>0.000000e+00</td>\n",
       "    </tr>\n",
       "    <tr>\n",
       "      <th>State_AL</th>\n",
       "      <td>0.000000e+00</td>\n",
       "    </tr>\n",
       "    <tr>\n",
       "      <th>State_MN</th>\n",
       "      <td>0.000000e+00</td>\n",
       "    </tr>\n",
       "    <tr>\n",
       "      <th>Loan.Length_.</th>\n",
       "      <td>0.000000e+00</td>\n",
       "    </tr>\n",
       "    <tr>\n",
       "      <th>State_NV</th>\n",
       "      <td>0.000000e+00</td>\n",
       "    </tr>\n",
       "    <tr>\n",
       "      <th>State_OR</th>\n",
       "      <td>0.000000e+00</td>\n",
       "    </tr>\n",
       "    <tr>\n",
       "      <th>State_SC</th>\n",
       "      <td>0.000000e+00</td>\n",
       "    </tr>\n",
       "    <tr>\n",
       "      <th>State_WI</th>\n",
       "      <td>0.000000e+00</td>\n",
       "    </tr>\n",
       "    <tr>\n",
       "      <th>State_LA</th>\n",
       "      <td>0.000000e+00</td>\n",
       "    </tr>\n",
       "    <tr>\n",
       "      <th>State_KS</th>\n",
       "      <td>0.000000e+00</td>\n",
       "    </tr>\n",
       "    <tr>\n",
       "      <th>State_OK</th>\n",
       "      <td>0.000000e+00</td>\n",
       "    </tr>\n",
       "    <tr>\n",
       "      <th>State_UT</th>\n",
       "      <td>0.000000e+00</td>\n",
       "    </tr>\n",
       "    <tr>\n",
       "      <th>State_NH</th>\n",
       "      <td>0.000000e+00</td>\n",
       "    </tr>\n",
       "    <tr>\n",
       "      <th>State_RI</th>\n",
       "      <td>0.000000e+00</td>\n",
       "    </tr>\n",
       "    <tr>\n",
       "      <th>State_MO</th>\n",
       "      <td>0.000000e+00</td>\n",
       "    </tr>\n",
       "    <tr>\n",
       "      <th>State_PA</th>\n",
       "      <td>-5.602695e-07</td>\n",
       "    </tr>\n",
       "  </tbody>\n",
       "</table>\n",
       "<p>89 rows × 1 columns</p>\n",
       "</div>"
      ],
      "text/plain": [
       "                                   Importance\n",
       "Feature                                      \n",
       "fico                             1.232436e+00\n",
       "Amount.Requested                 2.137498e-01\n",
       "Loan.Length_60 months            1.631791e-01\n",
       "Inquiries.in.the.Last.6.Months   5.446839e-02\n",
       "Open.CREDIT.Lines                3.535306e-02\n",
       "Loan.Length_36 months            2.463570e-02\n",
       "Debt.To.Income.Ratio             1.614558e-02\n",
       "Revolving.CREDIT.Balance         1.502112e-02\n",
       "Monthly.Income                   1.184924e-02\n",
       "random                           1.126233e-02\n",
       "Home.Ownership_MORTGAGE          2.447514e-03\n",
       "Home.Ownership_RENT              1.696858e-03\n",
       "Loan.Purpose_debt_consolidation  1.640305e-03\n",
       "Loan.Purpose_other               1.189444e-03\n",
       "Employment.Length_10+ years      1.106329e-03\n",
       "State_TX                         1.041484e-03\n",
       "Employment.Length_2 years        6.893522e-04\n",
       "State_CA                         6.133165e-04\n",
       "Loan.Purpose_credit_card         5.159447e-04\n",
       "Employment.Length_< 1 year       3.881097e-04\n",
       "Employment.Length_5 years        2.903741e-04\n",
       "Loan.Purpose_small_business      2.192102e-04\n",
       "State_FL                         2.009082e-04\n",
       "Employment.Length_3 years        1.977173e-04\n",
       "Employment.Length_6 years        1.808418e-04\n",
       "Employment.Length_7 years        1.323178e-04\n",
       "Loan.Purpose_home_improvement    1.215126e-04\n",
       "Employment.Length_1 year         9.643927e-05\n",
       "Loan.Purpose_major_purchase      8.761956e-05\n",
       "State_NY                         8.181922e-05\n",
       "...                                       ...\n",
       "State_NM                         0.000000e+00\n",
       "State_WV                         0.000000e+00\n",
       "Loan.Purpose_wedding             0.000000e+00\n",
       "Loan.Purpose_medical             0.000000e+00\n",
       "Loan.Purpose_moving              0.000000e+00\n",
       "Loan.Purpose_vacation            0.000000e+00\n",
       "Loan.Purpose_house               0.000000e+00\n",
       "Loan.Purpose_renewable_energy    0.000000e+00\n",
       "State_NJ                         0.000000e+00\n",
       "State_VA                         0.000000e+00\n",
       "State_MA                         0.000000e+00\n",
       "State_NC                         0.000000e+00\n",
       "State_WA                         0.000000e+00\n",
       "State_AZ                         0.000000e+00\n",
       "State_MI                         0.000000e+00\n",
       "State_AL                         0.000000e+00\n",
       "State_MN                         0.000000e+00\n",
       "Loan.Length_.                    0.000000e+00\n",
       "State_NV                         0.000000e+00\n",
       "State_OR                         0.000000e+00\n",
       "State_SC                         0.000000e+00\n",
       "State_WI                         0.000000e+00\n",
       "State_LA                         0.000000e+00\n",
       "State_KS                         0.000000e+00\n",
       "State_OK                         0.000000e+00\n",
       "State_UT                         0.000000e+00\n",
       "State_NH                         0.000000e+00\n",
       "State_RI                         0.000000e+00\n",
       "State_MO                         0.000000e+00\n",
       "State_PA                        -5.602695e-07\n",
       "\n",
       "[89 rows x 1 columns]"
      ]
     },
     "execution_count": 17,
     "metadata": {},
     "output_type": "execute_result"
    }
   ],
   "source": [
    "imp"
   ]
  },
  {
   "cell_type": "markdown",
   "metadata": {},
   "source": [
    "## Transformed Features : capability of algos to capture transformation automatically"
   ]
  },
  {
   "cell_type": "code",
   "execution_count": 18,
   "metadata": {},
   "outputs": [
    {
     "data": {
      "text/plain": [
       "(4000, 5)"
      ]
     },
     "execution_count": 18,
     "metadata": {},
     "output_type": "execute_result"
    }
   ],
   "source": [
    "x_data= pd.DataFrame(np.random.random(size= (4000,5)), columns= ['x1','x2','x3','x4','x5'])\n",
    "\n",
    "x_data.shape"
   ]
  },
  {
   "cell_type": "code",
   "execution_count": 19,
   "metadata": {},
   "outputs": [
    {
     "data": {
      "text/html": [
       "<div>\n",
       "<style scoped>\n",
       "    .dataframe tbody tr th:only-of-type {\n",
       "        vertical-align: middle;\n",
       "    }\n",
       "\n",
       "    .dataframe tbody tr th {\n",
       "        vertical-align: top;\n",
       "    }\n",
       "\n",
       "    .dataframe thead th {\n",
       "        text-align: right;\n",
       "    }\n",
       "</style>\n",
       "<table border=\"1\" class=\"dataframe\">\n",
       "  <thead>\n",
       "    <tr style=\"text-align: right;\">\n",
       "      <th></th>\n",
       "      <th>x1</th>\n",
       "      <th>x2</th>\n",
       "      <th>x3</th>\n",
       "      <th>x4</th>\n",
       "      <th>x5</th>\n",
       "      <th>y1</th>\n",
       "      <th>y2</th>\n",
       "      <th>y3</th>\n",
       "      <th>y4</th>\n",
       "      <th>y5</th>\n",
       "    </tr>\n",
       "  </thead>\n",
       "  <tbody>\n",
       "    <tr>\n",
       "      <th>0</th>\n",
       "      <td>0.054447</td>\n",
       "      <td>0.623752</td>\n",
       "      <td>0.895589</td>\n",
       "      <td>0.408826</td>\n",
       "      <td>0.755968</td>\n",
       "      <td>4.372272</td>\n",
       "      <td>4.038813</td>\n",
       "      <td>-3.068748</td>\n",
       "      <td>26.529424</td>\n",
       "      <td>17.389404</td>\n",
       "    </tr>\n",
       "    <tr>\n",
       "      <th>1</th>\n",
       "      <td>0.376958</td>\n",
       "      <td>0.875753</td>\n",
       "      <td>0.318691</td>\n",
       "      <td>0.224617</td>\n",
       "      <td>0.158346</td>\n",
       "      <td>3.651607</td>\n",
       "      <td>3.233839</td>\n",
       "      <td>-3.992610</td>\n",
       "      <td>19.228088</td>\n",
       "      <td>6.398190</td>\n",
       "    </tr>\n",
       "    <tr>\n",
       "      <th>2</th>\n",
       "      <td>0.071422</td>\n",
       "      <td>0.870633</td>\n",
       "      <td>0.503284</td>\n",
       "      <td>0.123026</td>\n",
       "      <td>0.743705</td>\n",
       "      <td>4.472332</td>\n",
       "      <td>3.445294</td>\n",
       "      <td>-4.191352</td>\n",
       "      <td>28.707064</td>\n",
       "      <td>21.280835</td>\n",
       "    </tr>\n",
       "    <tr>\n",
       "      <th>3</th>\n",
       "      <td>0.616888</td>\n",
       "      <td>0.458903</td>\n",
       "      <td>0.492146</td>\n",
       "      <td>0.429634</td>\n",
       "      <td>0.416131</td>\n",
       "      <td>4.029798</td>\n",
       "      <td>2.856972</td>\n",
       "      <td>-2.138592</td>\n",
       "      <td>12.126164</td>\n",
       "      <td>6.145435</td>\n",
       "    </tr>\n",
       "    <tr>\n",
       "      <th>4</th>\n",
       "      <td>0.190305</td>\n",
       "      <td>0.876121</td>\n",
       "      <td>0.171896</td>\n",
       "      <td>0.174805</td>\n",
       "      <td>0.763683</td>\n",
       "      <td>3.800867</td>\n",
       "      <td>3.793198</td>\n",
       "      <td>-3.289730</td>\n",
       "      <td>21.713400</td>\n",
       "      <td>12.619647</td>\n",
       "    </tr>\n",
       "  </tbody>\n",
       "</table>\n",
       "</div>"
      ],
      "text/plain": [
       "         x1        x2        x3        x4        x5        y1        y2  \\\n",
       "0  0.054447  0.623752  0.895589  0.408826  0.755968  4.372272  4.038813   \n",
       "1  0.376958  0.875753  0.318691  0.224617  0.158346  3.651607  3.233839   \n",
       "2  0.071422  0.870633  0.503284  0.123026  0.743705  4.472332  3.445294   \n",
       "3  0.616888  0.458903  0.492146  0.429634  0.416131  4.029798  2.856972   \n",
       "4  0.190305  0.876121  0.171896  0.174805  0.763683  3.800867  3.793198   \n",
       "\n",
       "         y3         y4         y5  \n",
       "0 -3.068748  26.529424  17.389404  \n",
       "1 -3.992610  19.228088   6.398190  \n",
       "2 -4.191352  28.707064  21.280835  \n",
       "3 -2.138592  12.126164   6.145435  \n",
       "4 -3.289730  21.713400  12.619647  "
      ]
     },
     "execution_count": 19,
     "metadata": {},
     "output_type": "execute_result"
    }
   ],
   "source": [
    "x_data['y1']= 1.5 + x_data['x1'] + x_data['x2'] + x_data['x3'] + x_data['x4'] + x_data['x5'] + np.random.random(size=4000)\n",
    "x_data['y2']= 1.5 + (x_data['x1']**2) + (x_data['x2']**2) + (x_data['x3']**2) + (x_data['x4']**2) + (x_data['x5']**2) + np.random.random(size=4000)\n",
    "x_data['y3']= 1.5 + (np.log(x_data['x1'])) + (np.log(x_data['x2'])) + (np.log(x_data['x3'])) + (np.log(x_data['x4'])) + (np.log(x_data['x5'])) + np.random.random(size=4000)\n",
    "x_data['y4']= 1.5 + (1/x_data['x1']) + (1/x_data['x2']) + (1/x_data['x3']) + (1/x_data['x4']) + (1/x_data['x5']) + np.random.random(size=4000)\n",
    "x_data['y5']= 1.5 + (x_data['x2']/x_data['x1'])  + (x_data['x3']/x_data['x2'])  + (x_data['x4']/x_data['x3']) + (x_data['x5']/x_data['x4']) + np.random.random(size=4000)\n",
    "\n",
    "x_data.head(5)"
   ]
  },
  {
   "cell_type": "code",
   "execution_count": 20,
   "metadata": {},
   "outputs": [],
   "source": [
    "\n",
    "train, test= train_test_split(x_data, test_size= 0.2, random_state=2)\n",
    "\n",
    "x_train= train.drop(['y1','y2','y3','y4','y5'],1)\n",
    "y_train= train[['y1','y2','y3','y4','y5']]\n",
    "\n",
    "x_test= test.drop(['y1','y2','y3','y4','y5'],1)\n",
    "y_test= test[['y1','y2','y3','y4','y5']]\n",
    "\n",
    "results= pd.DataFrame(columns=[\"Algo\",\"Relation\",\"MAE\"])"
   ]
  },
  {
   "cell_type": "code",
   "execution_count": null,
   "metadata": {},
   "outputs": [],
   "source": []
  },
  {
   "cell_type": "code",
   "execution_count": 21,
   "metadata": {},
   "outputs": [],
   "source": [
    "def Random_Forest(x,y,relation):\n",
    "    rf= RandomForestRegressor(n_estimators=200)\n",
    "    rf.fit(x,y_train[y])\n",
    "    y_pred=rf.predict(x_test)\n",
    "    mae= np.round(mean_absolute_error(y_test[y],y_pred),4)\n",
    "    global results\n",
    "    results= results.append({'Algo':\"Random Forest\",'Relation':relation,'MAE':mae}, ignore_index=True)\n",
    "    \n",
    "    #return(print(\"Algo: Random Forest\\nRelation: \"+relation+\" \\nMean Absolute error: \",mean_absolute_error(y_test[y],y_pred)))\n",
    "    \n",
    "\n",
    "def SV_M (x,y, relation):\n",
    "    svr= SVR()\n",
    "    svr.fit(x,y_train[y])\n",
    "    y_pred=svr.predict(x_test)\n",
    "    mae= np.round(mean_absolute_error(y_test[y],y_pred),4)\n",
    "    global results\n",
    "    results= results.append({'Algo':\"SVM\",'Relation':relation,'MAE':mae}, ignore_index=True)\n",
    "   # return(print(\"Algo: SVM \\nRelation: \"+relation+\" \\nMean Absolute error: \",mean_absolute_error(y_test[y],y_pred)))\n",
    "\n",
    "def XG_B(x,y, relation):\n",
    "    xgb= XGBRegressor(n_estimators=200,learning_rate=.01,objective='reg:squarederror')\n",
    "    xgb.fit(x,y_train[y])\n",
    "    y_pred=xgb.predict(x_test)\n",
    "    mae= np.round(mean_absolute_error(y_test[y],y_pred),4)\n",
    "    global results\n",
    "    results= results.append({'Algo':\"XGB\",'Relation':relation,'MAE':mae}, ignore_index=True)\n",
    "   # return(print(\"Algo: XGB \\nRelation: \"+relation+\" \\nMean Absolute error: \",mean_absolute_error(y_test[y],y_pred)))"
   ]
  },
  {
   "cell_type": "code",
   "execution_count": 22,
   "metadata": {},
   "outputs": [],
   "source": [
    "# SET-1 (x)\n",
    "\n",
    "Random_Forest(x_train,\"y1\",\"x\")\n",
    "\n",
    "SV_M(x_train,\"y1\",\"x\")\n",
    "\n",
    "XG_B(x_train,\"y1\",\"x\")"
   ]
  },
  {
   "cell_type": "code",
   "execution_count": 23,
   "metadata": {},
   "outputs": [],
   "source": [
    "# SET-2 (x^2)\n",
    "\n",
    "Random_Forest(x_train,\"y2\",\"x^2\")\n",
    "\n",
    "SV_M(x_train,\"y2\",\"x^2\")\n",
    "\n",
    "XG_B(x_train,\"y2\",\"x^2\")\n",
    "\n"
   ]
  },
  {
   "cell_type": "code",
   "execution_count": 24,
   "metadata": {},
   "outputs": [],
   "source": [
    "# SET-3 (log(x))\n",
    "Random_Forest(x_train,\"y3\",\"log(x)\")\n",
    "\n",
    "SV_M(x_train,\"y3\",\"log(x)\")\n",
    "\n",
    "XG_B(x_train,\"y3\",\"log(x)\")\n",
    "\n"
   ]
  },
  {
   "cell_type": "code",
   "execution_count": 25,
   "metadata": {},
   "outputs": [],
   "source": [
    "# SET-4 (Inverse)\n",
    "Random_Forest(x_train,\"y4\",\"1/x\")\n",
    "\n",
    "SV_M(x_train,\"y4\",\"1/x\")\n",
    "\n",
    "XG_B(x_train,\"y4\",\"1/x\")"
   ]
  },
  {
   "cell_type": "code",
   "execution_count": 26,
   "metadata": {},
   "outputs": [],
   "source": [
    "# SET-5 (Ratios)\n",
    "\n",
    "Random_Forest(x_train,\"y5\",\"Ratio\")\n",
    "\n",
    "SV_M(x_train,\"y5\",\"Ratio\")\n",
    "\n",
    "XG_B(x_train,\"y5\",\"Ratio\")"
   ]
  },
  {
   "cell_type": "code",
   "execution_count": 27,
   "metadata": {},
   "outputs": [
    {
     "data": {
      "text/html": [
       "<div>\n",
       "<style scoped>\n",
       "    .dataframe tbody tr th:only-of-type {\n",
       "        vertical-align: middle;\n",
       "    }\n",
       "\n",
       "    .dataframe tbody tr th {\n",
       "        vertical-align: top;\n",
       "    }\n",
       "\n",
       "    .dataframe thead th {\n",
       "        text-align: right;\n",
       "    }\n",
       "</style>\n",
       "<table border=\"1\" class=\"dataframe\">\n",
       "  <thead>\n",
       "    <tr style=\"text-align: right;\">\n",
       "      <th></th>\n",
       "      <th>Algo</th>\n",
       "      <th>Relation</th>\n",
       "      <th>MAE</th>\n",
       "    </tr>\n",
       "  </thead>\n",
       "  <tbody>\n",
       "    <tr>\n",
       "      <th>0</th>\n",
       "      <td>Random Forest</td>\n",
       "      <td>x</td>\n",
       "      <td>0.2689</td>\n",
       "    </tr>\n",
       "    <tr>\n",
       "      <th>1</th>\n",
       "      <td>SVM</td>\n",
       "      <td>x</td>\n",
       "      <td>0.2579</td>\n",
       "    </tr>\n",
       "    <tr>\n",
       "      <th>2</th>\n",
       "      <td>XGB</td>\n",
       "      <td>x</td>\n",
       "      <td>0.5714</td>\n",
       "    </tr>\n",
       "    <tr>\n",
       "      <th>3</th>\n",
       "      <td>Random Forest</td>\n",
       "      <td>x^2</td>\n",
       "      <td>0.2656</td>\n",
       "    </tr>\n",
       "    <tr>\n",
       "      <th>4</th>\n",
       "      <td>SVM</td>\n",
       "      <td>x^2</td>\n",
       "      <td>0.2483</td>\n",
       "    </tr>\n",
       "    <tr>\n",
       "      <th>5</th>\n",
       "      <td>XGB</td>\n",
       "      <td>x^2</td>\n",
       "      <td>0.4848</td>\n",
       "    </tr>\n",
       "    <tr>\n",
       "      <th>6</th>\n",
       "      <td>Random Forest</td>\n",
       "      <td>log(x)</td>\n",
       "      <td>0.4083</td>\n",
       "    </tr>\n",
       "    <tr>\n",
       "      <th>7</th>\n",
       "      <td>SVM</td>\n",
       "      <td>log(x)</td>\n",
       "      <td>0.5673</td>\n",
       "    </tr>\n",
       "    <tr>\n",
       "      <th>8</th>\n",
       "      <td>XGB</td>\n",
       "      <td>log(x)</td>\n",
       "      <td>0.9426</td>\n",
       "    </tr>\n",
       "    <tr>\n",
       "      <th>9</th>\n",
       "      <td>Random Forest</td>\n",
       "      <td>1/x</td>\n",
       "      <td>5.3361</td>\n",
       "    </tr>\n",
       "    <tr>\n",
       "      <th>10</th>\n",
       "      <td>SVM</td>\n",
       "      <td>1/x</td>\n",
       "      <td>30.4466</td>\n",
       "    </tr>\n",
       "    <tr>\n",
       "      <th>11</th>\n",
       "      <td>XGB</td>\n",
       "      <td>1/x</td>\n",
       "      <td>33.5528</td>\n",
       "    </tr>\n",
       "    <tr>\n",
       "      <th>12</th>\n",
       "      <td>Random Forest</td>\n",
       "      <td>Ratio</td>\n",
       "      <td>5.7488</td>\n",
       "    </tr>\n",
       "    <tr>\n",
       "      <th>13</th>\n",
       "      <td>SVM</td>\n",
       "      <td>Ratio</td>\n",
       "      <td>12.7301</td>\n",
       "    </tr>\n",
       "    <tr>\n",
       "      <th>14</th>\n",
       "      <td>XGB</td>\n",
       "      <td>Ratio</td>\n",
       "      <td>14.6228</td>\n",
       "    </tr>\n",
       "  </tbody>\n",
       "</table>\n",
       "</div>"
      ],
      "text/plain": [
       "             Algo Relation      MAE\n",
       "0   Random Forest        x   0.2689\n",
       "1             SVM        x   0.2579\n",
       "2             XGB        x   0.5714\n",
       "3   Random Forest      x^2   0.2656\n",
       "4             SVM      x^2   0.2483\n",
       "5             XGB      x^2   0.4848\n",
       "6   Random Forest   log(x)   0.4083\n",
       "7             SVM   log(x)   0.5673\n",
       "8             XGB   log(x)   0.9426\n",
       "9   Random Forest      1/x   5.3361\n",
       "10            SVM      1/x  30.4466\n",
       "11            XGB      1/x  33.5528\n",
       "12  Random Forest    Ratio   5.7488\n",
       "13            SVM    Ratio  12.7301\n",
       "14            XGB    Ratio  14.6228"
      ]
     },
     "execution_count": 27,
     "metadata": {},
     "output_type": "execute_result"
    }
   ],
   "source": [
    "results"
   ]
  },
  {
   "cell_type": "code",
   "execution_count": null,
   "metadata": {},
   "outputs": [],
   "source": []
  }
 ],
 "metadata": {
  "kernelspec": {
   "display_name": "Python 3",
   "language": "python",
   "name": "python3"
  },
  "language_info": {
   "codemirror_mode": {
    "name": "ipython",
    "version": 3
   },
   "file_extension": ".py",
   "mimetype": "text/x-python",
   "name": "python",
   "nbconvert_exporter": "python",
   "pygments_lexer": "ipython3",
   "version": "3.8.5"
  }
 },
 "nbformat": 4,
 "nbformat_minor": 2
}
