{
 "cells": [
  {
   "cell_type": "markdown",
   "metadata": {},
   "source": [
    "Build linear regression model using lasso , use parameter tuning to find appropriate value for hyper parameters . check how many coefficients are made zero.\n",
    "Build linear regression model using ridge , use parameter tuning to find appropriate value for hyper parameters\n",
    "Linear regression outcome, theoretically can take negative values as well, how can you ensure that your outcomes are positive"
   ]
  },
  {
   "cell_type": "code",
   "execution_count": 1,
   "metadata": {},
   "outputs": [],
   "source": [
    "import pandas as pd\n",
    "import numpy as np"
   ]
  },
  {
   "cell_type": "code",
   "execution_count": 2,
   "metadata": {},
   "outputs": [],
   "source": [
    "data_file=r'C:\\Users\\Nikhil\\Desktop\\AI\\Data\\Data\\facebook_comments.csv'"
   ]
  },
  {
   "cell_type": "code",
   "execution_count": 3,
   "metadata": {},
   "outputs": [],
   "source": [
    "df=pd.read_csv(data_file)"
   ]
  },
  {
   "cell_type": "code",
   "execution_count": 4,
   "metadata": {},
   "outputs": [
    {
     "data": {
      "text/plain": [
       "(40949, 42)"
      ]
     },
     "execution_count": 4,
     "metadata": {},
     "output_type": "execute_result"
    }
   ],
   "source": [
    "df.shape"
   ]
  },
  {
   "cell_type": "code",
   "execution_count": 5,
   "metadata": {},
   "outputs": [
    {
     "data": {
      "text/html": [
       "<div>\n",
       "<style scoped>\n",
       "    .dataframe tbody tr th:only-of-type {\n",
       "        vertical-align: middle;\n",
       "    }\n",
       "\n",
       "    .dataframe tbody tr th {\n",
       "        vertical-align: top;\n",
       "    }\n",
       "\n",
       "    .dataframe thead th {\n",
       "        text-align: right;\n",
       "    }\n",
       "</style>\n",
       "<table border=\"1\" class=\"dataframe\">\n",
       "  <thead>\n",
       "    <tr style=\"text-align: right;\">\n",
       "      <th></th>\n",
       "      <th>likes</th>\n",
       "      <th>checkins</th>\n",
       "      <th>talking_about</th>\n",
       "      <th>page_category</th>\n",
       "      <th>feat5</th>\n",
       "      <th>feat6</th>\n",
       "      <th>feat7</th>\n",
       "      <th>feat8</th>\n",
       "      <th>feat9</th>\n",
       "      <th>feat10</th>\n",
       "      <th>...</th>\n",
       "      <th>CC4</th>\n",
       "      <th>CC5</th>\n",
       "      <th>Base_Time</th>\n",
       "      <th>Post_Length</th>\n",
       "      <th>Post Share Count</th>\n",
       "      <th>Post Promotion Status</th>\n",
       "      <th>H local</th>\n",
       "      <th>Comments_in_next_H_hrs</th>\n",
       "      <th>Post Published Weekday</th>\n",
       "      <th>Base Date Time Weekday</th>\n",
       "    </tr>\n",
       "  </thead>\n",
       "  <tbody>\n",
       "    <tr>\n",
       "      <th>0</th>\n",
       "      <td>634995</td>\n",
       "      <td>0</td>\n",
       "      <td>463</td>\n",
       "      <td>Product/service</td>\n",
       "      <td>0.0</td>\n",
       "      <td>806.0</td>\n",
       "      <td>11.291045</td>\n",
       "      <td>1.0</td>\n",
       "      <td>70.495138</td>\n",
       "      <td>0.0</td>\n",
       "      <td>...</td>\n",
       "      <td>0</td>\n",
       "      <td>0</td>\n",
       "      <td>65</td>\n",
       "      <td>166</td>\n",
       "      <td>2</td>\n",
       "      <td>0</td>\n",
       "      <td>24</td>\n",
       "      <td>0</td>\n",
       "      <td>Wednesday</td>\n",
       "      <td>Saturday</td>\n",
       "    </tr>\n",
       "    <tr>\n",
       "      <th>1</th>\n",
       "      <td>634995</td>\n",
       "      <td>0</td>\n",
       "      <td>463</td>\n",
       "      <td>Product/service</td>\n",
       "      <td>0.0</td>\n",
       "      <td>806.0</td>\n",
       "      <td>11.291045</td>\n",
       "      <td>1.0</td>\n",
       "      <td>70.495138</td>\n",
       "      <td>0.0</td>\n",
       "      <td>...</td>\n",
       "      <td>0</td>\n",
       "      <td>0</td>\n",
       "      <td>10</td>\n",
       "      <td>132</td>\n",
       "      <td>1</td>\n",
       "      <td>0</td>\n",
       "      <td>24</td>\n",
       "      <td>0</td>\n",
       "      <td>Thursday</td>\n",
       "      <td>Friday</td>\n",
       "    </tr>\n",
       "    <tr>\n",
       "      <th>2</th>\n",
       "      <td>634995</td>\n",
       "      <td>0</td>\n",
       "      <td>463</td>\n",
       "      <td>Product/service</td>\n",
       "      <td>0.0</td>\n",
       "      <td>806.0</td>\n",
       "      <td>11.291045</td>\n",
       "      <td>1.0</td>\n",
       "      <td>70.495138</td>\n",
       "      <td>0.0</td>\n",
       "      <td>...</td>\n",
       "      <td>0</td>\n",
       "      <td>0</td>\n",
       "      <td>14</td>\n",
       "      <td>133</td>\n",
       "      <td>2</td>\n",
       "      <td>0</td>\n",
       "      <td>24</td>\n",
       "      <td>0</td>\n",
       "      <td>Friday</td>\n",
       "      <td>Saturday</td>\n",
       "    </tr>\n",
       "    <tr>\n",
       "      <th>3</th>\n",
       "      <td>634995</td>\n",
       "      <td>0</td>\n",
       "      <td>463</td>\n",
       "      <td>Product/service</td>\n",
       "      <td>0.0</td>\n",
       "      <td>806.0</td>\n",
       "      <td>11.291045</td>\n",
       "      <td>1.0</td>\n",
       "      <td>70.495138</td>\n",
       "      <td>0.0</td>\n",
       "      <td>...</td>\n",
       "      <td>7</td>\n",
       "      <td>-3</td>\n",
       "      <td>62</td>\n",
       "      <td>131</td>\n",
       "      <td>1</td>\n",
       "      <td>0</td>\n",
       "      <td>24</td>\n",
       "      <td>0</td>\n",
       "      <td>Friday</td>\n",
       "      <td>Monday</td>\n",
       "    </tr>\n",
       "    <tr>\n",
       "      <th>4</th>\n",
       "      <td>634995</td>\n",
       "      <td>0</td>\n",
       "      <td>463</td>\n",
       "      <td>Product/service</td>\n",
       "      <td>0.0</td>\n",
       "      <td>806.0</td>\n",
       "      <td>11.291045</td>\n",
       "      <td>1.0</td>\n",
       "      <td>70.495138</td>\n",
       "      <td>0.0</td>\n",
       "      <td>...</td>\n",
       "      <td>1</td>\n",
       "      <td>0</td>\n",
       "      <td>58</td>\n",
       "      <td>142</td>\n",
       "      <td>5</td>\n",
       "      <td>0</td>\n",
       "      <td>24</td>\n",
       "      <td>0</td>\n",
       "      <td>Monday</td>\n",
       "      <td>Wednesday</td>\n",
       "    </tr>\n",
       "  </tbody>\n",
       "</table>\n",
       "<p>5 rows × 42 columns</p>\n",
       "</div>"
      ],
      "text/plain": [
       "    likes  checkins  talking_about    page_category  feat5  feat6      feat7  \\\n",
       "0  634995         0            463  Product/service    0.0  806.0  11.291045   \n",
       "1  634995         0            463  Product/service    0.0  806.0  11.291045   \n",
       "2  634995         0            463  Product/service    0.0  806.0  11.291045   \n",
       "3  634995         0            463  Product/service    0.0  806.0  11.291045   \n",
       "4  634995         0            463  Product/service    0.0  806.0  11.291045   \n",
       "\n",
       "   feat8      feat9  feat10  ...  CC4  CC5  Base_Time  Post_Length  \\\n",
       "0    1.0  70.495138     0.0  ...    0    0         65          166   \n",
       "1    1.0  70.495138     0.0  ...    0    0         10          132   \n",
       "2    1.0  70.495138     0.0  ...    0    0         14          133   \n",
       "3    1.0  70.495138     0.0  ...    7   -3         62          131   \n",
       "4    1.0  70.495138     0.0  ...    1    0         58          142   \n",
       "\n",
       "   Post Share Count  Post Promotion Status  H local  Comments_in_next_H_hrs  \\\n",
       "0                 2                      0       24                       0   \n",
       "1                 1                      0       24                       0   \n",
       "2                 2                      0       24                       0   \n",
       "3                 1                      0       24                       0   \n",
       "4                 5                      0       24                       0   \n",
       "\n",
       "   Post Published Weekday  Base Date Time Weekday  \n",
       "0               Wednesday                Saturday  \n",
       "1                Thursday                  Friday  \n",
       "2                  Friday                Saturday  \n",
       "3                  Friday                  Monday  \n",
       "4                  Monday               Wednesday  \n",
       "\n",
       "[5 rows x 42 columns]"
      ]
     },
     "execution_count": 5,
     "metadata": {},
     "output_type": "execute_result"
    }
   ],
   "source": [
    "df.head()"
   ]
  },
  {
   "cell_type": "code",
   "execution_count": 6,
   "metadata": {},
   "outputs": [],
   "source": [
    "k=df['page_category'].value_counts()"
   ]
  },
  {
   "cell_type": "code",
   "execution_count": 7,
   "metadata": {},
   "outputs": [],
   "source": [
    "cats=k[k>200].index[:-1]"
   ]
  },
  {
   "cell_type": "code",
   "execution_count": 8,
   "metadata": {},
   "outputs": [],
   "source": [
    "for cat in cats:\n",
    "    name='page_category_'+cat\n",
    "    df[cat]=(df['page_category']==cat).astype(int)\n",
    "del df['page_category']"
   ]
  },
  {
   "cell_type": "code",
   "execution_count": 9,
   "metadata": {},
   "outputs": [
    {
     "data": {
      "text/plain": [
       "(40949, 75)"
      ]
     },
     "execution_count": 9,
     "metadata": {},
     "output_type": "execute_result"
    }
   ],
   "source": [
    "df.shape"
   ]
  },
  {
   "cell_type": "code",
   "execution_count": 10,
   "metadata": {},
   "outputs": [
    {
     "data": {
      "text/plain": [
       "array(['Wednesday', 'Thursday', 'Friday', 'Monday', 'Tuesday', 'Sunday',\n",
       "       'Saturday'], dtype=object)"
      ]
     },
     "execution_count": 10,
     "metadata": {},
     "output_type": "execute_result"
    }
   ],
   "source": [
    "df['Post Published Weekday'].unique()"
   ]
  },
  {
   "cell_type": "code",
   "execution_count": 11,
   "metadata": {},
   "outputs": [],
   "source": [
    "cols=['Post Published Weekday','Base Date Time Weekday']"
   ]
  },
  {
   "cell_type": "code",
   "execution_count": 12,
   "metadata": {},
   "outputs": [],
   "source": [
    "dic={'Wednesday':4, 'Thursday':5, 'Friday':6, 'Monday':2, 'Tuesday':3, 'Sunday':1,\n",
    "       'Saturday':7}"
   ]
  },
  {
   "cell_type": "code",
   "execution_count": 13,
   "metadata": {},
   "outputs": [],
   "source": [
    "for col in cols:\n",
    "    df[col]=df[col].map(dic)"
   ]
  },
  {
   "cell_type": "code",
   "execution_count": 14,
   "metadata": {},
   "outputs": [],
   "source": [
    "for col in cols:\n",
    "    df[col+'_sin']=np.sin(2*np.pi*df[col]/7)\n",
    "    df[col+'_cos']=np.cos(2*np.pi*df[col]/7)\n",
    "    del df[col]"
   ]
  },
  {
   "cell_type": "code",
   "execution_count": 15,
   "metadata": {},
   "outputs": [],
   "source": [
    "target='Comments_in_next_H_hrs'"
   ]
  },
  {
   "cell_type": "code",
   "execution_count": 16,
   "metadata": {},
   "outputs": [],
   "source": [
    "x_train=df.drop(target,1)\n",
    "y_train=df[target]"
   ]
  },
  {
   "cell_type": "code",
   "execution_count": 17,
   "metadata": {},
   "outputs": [],
   "source": [
    "from sklearn.model_selection import cross_val_score\n",
    "from sklearn.linear_model import LinearRegression"
   ]
  },
  {
   "cell_type": "code",
   "execution_count": 18,
   "metadata": {},
   "outputs": [],
   "source": [
    "model=LinearRegression()"
   ]
  },
  {
   "cell_type": "code",
   "execution_count": 19,
   "metadata": {},
   "outputs": [
    {
     "name": "stderr",
     "output_type": "stream",
     "text": [
      "[Parallel(n_jobs=-1)]: Using backend LokyBackend with 12 concurrent workers.\n",
      "[Parallel(n_jobs=-1)]: Done   1 tasks      | elapsed:    3.7s\n",
      "[Parallel(n_jobs=-1)]: Done   2 out of  10 | elapsed:    3.7s remaining:   14.8s\n",
      "[Parallel(n_jobs=-1)]: Done   3 out of  10 | elapsed:    3.7s remaining:    8.7s\n",
      "[Parallel(n_jobs=-1)]: Done   4 out of  10 | elapsed:    3.7s remaining:    5.6s\n",
      "[Parallel(n_jobs=-1)]: Done   5 out of  10 | elapsed:    3.7s remaining:    3.7s\n",
      "[Parallel(n_jobs=-1)]: Done   6 out of  10 | elapsed:    3.7s remaining:    2.5s\n",
      "[Parallel(n_jobs=-1)]: Done   7 out of  10 | elapsed:    3.7s remaining:    1.6s\n",
      "[Parallel(n_jobs=-1)]: Done   8 out of  10 | elapsed:    3.7s remaining:    0.9s\n",
      "[Parallel(n_jobs=-1)]: Done  10 out of  10 | elapsed:    3.7s remaining:    0.0s\n",
      "[Parallel(n_jobs=-1)]: Done  10 out of  10 | elapsed:    3.7s finished\n"
     ]
    }
   ],
   "source": [
    "scores=cross_val_score(model,x_train,y_train,cv=10,n_jobs=-1,\n",
    "                       scoring='neg_mean_absolute_error',verbose=20)"
   ]
  },
  {
   "cell_type": "code",
   "execution_count": 20,
   "metadata": {},
   "outputs": [
    {
     "data": {
      "text/plain": [
       "8.48670468677086"
      ]
     },
     "execution_count": 20,
     "metadata": {},
     "output_type": "execute_result"
    }
   ],
   "source": [
    "simple_lm_error=abs(scores.mean())\n",
    "simple_lm_error"
   ]
  },
  {
   "cell_type": "code",
   "execution_count": 21,
   "metadata": {},
   "outputs": [],
   "source": [
    "from sklearn.model_selection import GridSearchCV\n",
    "from sklearn.linear_model import Ridge,Lasso"
   ]
  },
  {
   "cell_type": "code",
   "execution_count": 22,
   "metadata": {},
   "outputs": [],
   "source": [
    "model_lasso=Lasso(fit_intercept=True)"
   ]
  },
  {
   "cell_type": "code",
   "execution_count": 23,
   "metadata": {},
   "outputs": [],
   "source": [
    "alpha=np.linspace(1,100,10)"
   ]
  },
  {
   "cell_type": "code",
   "execution_count": 24,
   "metadata": {},
   "outputs": [],
   "source": [
    "params={'alpha':alpha}"
   ]
  },
  {
   "cell_type": "code",
   "execution_count": 25,
   "metadata": {},
   "outputs": [],
   "source": [
    "grid_search=GridSearchCV(model_lasso,cv=10,scoring='neg_mean_absolute_error',\n",
    "                         verbose=20,n_jobs=-1,param_grid=params)"
   ]
  },
  {
   "cell_type": "code",
   "execution_count": 26,
   "metadata": {},
   "outputs": [
    {
     "name": "stderr",
     "output_type": "stream",
     "text": [
      "[Parallel(n_jobs=-1)]: Using backend LokyBackend with 12 concurrent workers.\n"
     ]
    },
    {
     "name": "stdout",
     "output_type": "stream",
     "text": [
      "Fitting 10 folds for each of 10 candidates, totalling 100 fits\n"
     ]
    },
    {
     "name": "stderr",
     "output_type": "stream",
     "text": [
      "[Parallel(n_jobs=-1)]: Done   1 tasks      | elapsed:    7.0s\n",
      "[Parallel(n_jobs=-1)]: Done   2 tasks      | elapsed:    7.0s\n",
      "[Parallel(n_jobs=-1)]: Done   3 tasks      | elapsed:   13.6s\n",
      "[Parallel(n_jobs=-1)]: Done   4 tasks      | elapsed:   20.5s\n",
      "[Parallel(n_jobs=-1)]: Done   5 tasks      | elapsed:   20.9s\n",
      "[Parallel(n_jobs=-1)]: Done   6 tasks      | elapsed:   21.0s\n",
      "[Parallel(n_jobs=-1)]: Done   7 tasks      | elapsed:   21.1s\n",
      "[Parallel(n_jobs=-1)]: Done   8 tasks      | elapsed:   21.2s\n",
      "[Parallel(n_jobs=-1)]: Done   9 tasks      | elapsed:   21.2s\n",
      "[Parallel(n_jobs=-1)]: Done  10 tasks      | elapsed:   21.2s\n",
      "[Parallel(n_jobs=-1)]: Done  11 tasks      | elapsed:   21.3s\n",
      "[Parallel(n_jobs=-1)]: Done  12 tasks      | elapsed:   21.7s\n",
      "[Parallel(n_jobs=-1)]: Done  13 tasks      | elapsed:   26.7s\n",
      "[Parallel(n_jobs=-1)]: Done  14 tasks      | elapsed:   28.0s\n",
      "[Parallel(n_jobs=-1)]: Done  15 tasks      | elapsed:   28.0s\n",
      "[Parallel(n_jobs=-1)]: Done  16 tasks      | elapsed:   28.2s\n",
      "[Parallel(n_jobs=-1)]: Done  17 tasks      | elapsed:   28.4s\n",
      "[Parallel(n_jobs=-1)]: Done  18 tasks      | elapsed:   28.7s\n",
      "[Parallel(n_jobs=-1)]: Done  19 tasks      | elapsed:   29.9s\n",
      "[Parallel(n_jobs=-1)]: Done  20 tasks      | elapsed:   30.9s\n",
      "[Parallel(n_jobs=-1)]: Done  21 tasks      | elapsed:   31.6s\n",
      "[Parallel(n_jobs=-1)]: Done  22 tasks      | elapsed:   31.8s\n",
      "[Parallel(n_jobs=-1)]: Done  23 tasks      | elapsed:   34.3s\n",
      "[Parallel(n_jobs=-1)]: Done  24 tasks      | elapsed:   36.4s\n",
      "[Parallel(n_jobs=-1)]: Done  25 tasks      | elapsed:   37.5s\n",
      "[Parallel(n_jobs=-1)]: Done  26 tasks      | elapsed:   41.6s\n",
      "[Parallel(n_jobs=-1)]: Done  27 tasks      | elapsed:   43.5s\n",
      "[Parallel(n_jobs=-1)]: Done  28 tasks      | elapsed:   43.7s\n",
      "[Parallel(n_jobs=-1)]: Done  29 tasks      | elapsed:   46.0s\n",
      "[Parallel(n_jobs=-1)]: Done  30 tasks      | elapsed:   47.0s\n",
      "[Parallel(n_jobs=-1)]: Done  31 tasks      | elapsed:   47.1s\n",
      "[Parallel(n_jobs=-1)]: Done  32 tasks      | elapsed:   48.2s\n",
      "[Parallel(n_jobs=-1)]: Done  33 tasks      | elapsed:   48.7s\n",
      "[Parallel(n_jobs=-1)]: Done  34 tasks      | elapsed:   49.8s\n",
      "[Parallel(n_jobs=-1)]: Done  35 tasks      | elapsed:   50.4s\n",
      "[Parallel(n_jobs=-1)]: Done  36 tasks      | elapsed:   50.9s\n",
      "[Parallel(n_jobs=-1)]: Done  37 tasks      | elapsed:   51.3s\n",
      "[Parallel(n_jobs=-1)]: Done  38 tasks      | elapsed:   51.9s\n",
      "[Parallel(n_jobs=-1)]: Done  39 tasks      | elapsed:   52.0s\n",
      "[Parallel(n_jobs=-1)]: Done  40 tasks      | elapsed:   53.1s\n",
      "[Parallel(n_jobs=-1)]: Done  41 tasks      | elapsed:   53.3s\n",
      "[Parallel(n_jobs=-1)]: Done  42 tasks      | elapsed:   54.1s\n",
      "[Parallel(n_jobs=-1)]: Done  43 tasks      | elapsed:   54.2s\n",
      "[Parallel(n_jobs=-1)]: Done  44 tasks      | elapsed:   54.2s\n",
      "[Parallel(n_jobs=-1)]: Done  45 tasks      | elapsed:   54.6s\n",
      "[Parallel(n_jobs=-1)]: Done  46 tasks      | elapsed:   55.1s\n",
      "[Parallel(n_jobs=-1)]: Done  47 tasks      | elapsed:   55.2s\n",
      "[Parallel(n_jobs=-1)]: Done  48 tasks      | elapsed:   55.4s\n",
      "[Parallel(n_jobs=-1)]: Done  49 tasks      | elapsed:   55.5s\n",
      "[Parallel(n_jobs=-1)]: Done  50 tasks      | elapsed:   56.4s\n",
      "[Parallel(n_jobs=-1)]: Done  51 tasks      | elapsed:   56.9s\n",
      "[Parallel(n_jobs=-1)]: Done  52 tasks      | elapsed:   57.1s\n",
      "[Parallel(n_jobs=-1)]: Done  53 tasks      | elapsed:   57.4s\n",
      "[Parallel(n_jobs=-1)]: Done  54 tasks      | elapsed:   57.5s\n",
      "[Parallel(n_jobs=-1)]: Done  55 tasks      | elapsed:   57.6s\n",
      "[Parallel(n_jobs=-1)]: Done  56 tasks      | elapsed:   57.9s\n",
      "[Parallel(n_jobs=-1)]: Done  57 tasks      | elapsed:   58.2s\n",
      "[Parallel(n_jobs=-1)]: Done  58 tasks      | elapsed:   58.3s\n",
      "[Parallel(n_jobs=-1)]: Done  59 tasks      | elapsed:   59.0s\n",
      "[Parallel(n_jobs=-1)]: Done  60 tasks      | elapsed:   59.2s\n",
      "[Parallel(n_jobs=-1)]: Done  61 tasks      | elapsed:   59.8s\n",
      "[Parallel(n_jobs=-1)]: Done  62 tasks      | elapsed:  1.0min\n",
      "[Parallel(n_jobs=-1)]: Done  63 tasks      | elapsed:  1.0min\n",
      "[Parallel(n_jobs=-1)]: Done  64 tasks      | elapsed:  1.0min\n",
      "[Parallel(n_jobs=-1)]: Done  65 tasks      | elapsed:  1.0min\n",
      "[Parallel(n_jobs=-1)]: Done  66 tasks      | elapsed:  1.0min\n",
      "[Parallel(n_jobs=-1)]: Done  67 tasks      | elapsed:  1.0min\n",
      "[Parallel(n_jobs=-1)]: Done  68 tasks      | elapsed:  1.0min\n",
      "[Parallel(n_jobs=-1)]: Done  69 tasks      | elapsed:  1.0min\n",
      "[Parallel(n_jobs=-1)]: Done  70 tasks      | elapsed:  1.0min\n",
      "[Parallel(n_jobs=-1)]: Done  71 tasks      | elapsed:  1.0min\n",
      "[Parallel(n_jobs=-1)]: Done  72 tasks      | elapsed:  1.0min\n",
      "[Parallel(n_jobs=-1)]: Done  73 tasks      | elapsed:  1.0min\n",
      "[Parallel(n_jobs=-1)]: Done  74 tasks      | elapsed:  1.0min\n",
      "[Parallel(n_jobs=-1)]: Done  75 tasks      | elapsed:  1.0min\n",
      "[Parallel(n_jobs=-1)]: Done  76 tasks      | elapsed:  1.0min\n",
      "[Parallel(n_jobs=-1)]: Done  77 tasks      | elapsed:  1.1min\n",
      "[Parallel(n_jobs=-1)]: Done  83 out of 100 | elapsed:  1.1min remaining:   13.2s\n",
      "[Parallel(n_jobs=-1)]: Done  89 out of 100 | elapsed:  1.1min remaining:    8.2s\n",
      "[Parallel(n_jobs=-1)]: Done  95 out of 100 | elapsed:  1.1min remaining:    3.5s\n",
      "[Parallel(n_jobs=-1)]: Done 100 out of 100 | elapsed:  1.1min finished\n"
     ]
    },
    {
     "data": {
      "text/plain": [
       "GridSearchCV(cv=10, error_score='raise-deprecating',\n",
       "       estimator=Lasso(alpha=1.0, copy_X=True, fit_intercept=True, max_iter=1000,\n",
       "   normalize=False, positive=False, precompute=False, random_state=None,\n",
       "   selection='cyclic', tol=0.0001, warm_start=False),\n",
       "       fit_params=None, iid='warn', n_jobs=-1,\n",
       "       param_grid={'alpha': array([  1.,  12.,  23.,  34.,  45.,  56.,  67.,  78.,  89., 100.])},\n",
       "       pre_dispatch='2*n_jobs', refit=True, return_train_score='warn',\n",
       "       scoring='neg_mean_absolute_error', verbose=20)"
      ]
     },
     "execution_count": 26,
     "metadata": {},
     "output_type": "execute_result"
    }
   ],
   "source": [
    "grid_search.fit(x_train,y_train)"
   ]
  },
  {
   "cell_type": "code",
   "execution_count": 27,
   "metadata": {},
   "outputs": [],
   "source": [
    "def report(results, n_top=3):\n",
    "    for i in range(1, n_top + 1):\n",
    "        candidates = np.flatnonzero(results['rank_test_score'] == i)\n",
    "        for candidate in candidates:\n",
    "            print(\"Model with rank: {0}\".format(i))\n",
    "            print(\"Mean validation score: {0:.3f} (std: {1:.3f})\"\n",
    "                  .format(results['mean_test_score'][candidate],\n",
    "                          results['std_test_score'][candidate]))\n",
    "            print(\"Parameters: {0}\".format(results['params'][candidate]))\n",
    "            print(\"\")\n",
    "# you should also try this \n",
    "# source : https://www.kaggle.com/grfiv4/displaying-the-results-of-a-grid-search"
   ]
  },
  {
   "cell_type": "code",
   "execution_count": 28,
   "metadata": {},
   "outputs": [
    {
     "name": "stdout",
     "output_type": "stream",
     "text": [
      "Model with rank: 1\n",
      "Mean validation score: -6.948 (std: 1.468)\n",
      "Parameters: {'alpha': 78.0}\n",
      "\n",
      "Model with rank: 2\n",
      "Mean validation score: -6.977 (std: 1.486)\n",
      "Parameters: {'alpha': 89.0}\n",
      "\n",
      "Model with rank: 3\n",
      "Mean validation score: -6.996 (std: 1.466)\n",
      "Parameters: {'alpha': 100.0}\n",
      "\n",
      "Model with rank: 4\n",
      "Mean validation score: -7.014 (std: 1.422)\n",
      "Parameters: {'alpha': 67.0}\n",
      "\n",
      "Model with rank: 5\n",
      "Mean validation score: -7.153 (std: 1.380)\n",
      "Parameters: {'alpha': 56.0}\n",
      "\n"
     ]
    }
   ],
   "source": [
    "report(grid_search.cv_results_,5) # you can do tuning on a finer range around 78"
   ]
  },
  {
   "cell_type": "code",
   "execution_count": 29,
   "metadata": {},
   "outputs": [],
   "source": [
    "lasso=grid_search.best_estimator_"
   ]
  },
  {
   "cell_type": "code",
   "execution_count": 30,
   "metadata": {},
   "outputs": [
    {
     "data": {
      "text/plain": [
       "Lasso(alpha=78.0, copy_X=True, fit_intercept=True, max_iter=1000,\n",
       "   normalize=False, positive=False, precompute=False, random_state=None,\n",
       "   selection='cyclic', tol=0.0001, warm_start=False)"
      ]
     },
     "execution_count": 30,
     "metadata": {},
     "output_type": "execute_result"
    }
   ],
   "source": [
    "lasso.fit(x_train,y_train)"
   ]
  },
  {
   "cell_type": "code",
   "execution_count": 31,
   "metadata": {},
   "outputs": [
    {
     "data": {
      "text/plain": [
       "67"
      ]
     },
     "execution_count": 31,
     "metadata": {},
     "output_type": "execute_result"
    }
   ],
   "source": [
    "(lasso.coef_==0).sum()"
   ]
  },
  {
   "cell_type": "code",
   "execution_count": 32,
   "metadata": {},
   "outputs": [],
   "source": [
    "# list(zip(x_train.columns,lasso.coef_))\n",
    "# for looking at the coefficients "
   ]
  },
  {
   "cell_type": "code",
   "execution_count": 33,
   "metadata": {},
   "outputs": [],
   "source": [
    "model_ridge=Ridge(fit_intercept=True)\n",
    "alpha=np.linspace(10000,100000,10)\n",
    "# we arrived at this after many trials and it still seems that more penalty will be better \n",
    "# you can try expanding this further and see if this improves the ridge performance\n",
    "params={'alpha':alpha}"
   ]
  },
  {
   "cell_type": "code",
   "execution_count": 34,
   "metadata": {},
   "outputs": [],
   "source": [
    "grid_search=GridSearchCV(model_ridge,cv=10,scoring='neg_mean_absolute_error',\n",
    "                         verbose=20,n_jobs=-1,param_grid=params)"
   ]
  },
  {
   "cell_type": "code",
   "execution_count": 35,
   "metadata": {},
   "outputs": [
    {
     "name": "stdout",
     "output_type": "stream",
     "text": [
      "Fitting 10 folds for each of 10 candidates, totalling 100 fits\n"
     ]
    },
    {
     "name": "stderr",
     "output_type": "stream",
     "text": [
      "[Parallel(n_jobs=-1)]: Using backend LokyBackend with 12 concurrent workers.\n",
      "[Parallel(n_jobs=-1)]: Done   1 tasks      | elapsed:    0.3s\n",
      "[Parallel(n_jobs=-1)]: Done   2 tasks      | elapsed:    0.3s\n",
      "[Parallel(n_jobs=-1)]: Done   3 tasks      | elapsed:    0.4s\n",
      "[Parallel(n_jobs=-1)]: Done   4 tasks      | elapsed:    0.4s\n",
      "[Parallel(n_jobs=-1)]: Done   5 tasks      | elapsed:    0.4s\n",
      "[Parallel(n_jobs=-1)]: Done   6 tasks      | elapsed:    0.4s\n",
      "[Parallel(n_jobs=-1)]: Done   7 tasks      | elapsed:    0.4s\n",
      "[Parallel(n_jobs=-1)]: Done   8 tasks      | elapsed:    0.5s\n",
      "[Parallel(n_jobs=-1)]: Done   9 tasks      | elapsed:    0.5s\n",
      "[Parallel(n_jobs=-1)]: Done  10 tasks      | elapsed:    0.5s\n",
      "[Parallel(n_jobs=-1)]: Done  11 tasks      | elapsed:    0.5s\n",
      "[Parallel(n_jobs=-1)]: Done  12 tasks      | elapsed:    0.5s\n",
      "[Parallel(n_jobs=-1)]: Done  13 tasks      | elapsed:    0.7s\n",
      "[Parallel(n_jobs=-1)]: Done  14 tasks      | elapsed:    0.8s\n",
      "[Parallel(n_jobs=-1)]: Done  15 tasks      | elapsed:    0.9s\n",
      "[Parallel(n_jobs=-1)]: Done  16 tasks      | elapsed:    0.9s\n",
      "[Parallel(n_jobs=-1)]: Done  17 tasks      | elapsed:    0.9s\n",
      "[Parallel(n_jobs=-1)]: Done  18 tasks      | elapsed:    1.0s\n",
      "[Parallel(n_jobs=-1)]: Done  19 tasks      | elapsed:    1.1s\n",
      "[Parallel(n_jobs=-1)]: Done  20 tasks      | elapsed:    1.1s\n",
      "[Parallel(n_jobs=-1)]: Done  21 tasks      | elapsed:    1.1s\n",
      "[Parallel(n_jobs=-1)]: Done  22 tasks      | elapsed:    1.2s\n",
      "[Parallel(n_jobs=-1)]: Done  23 tasks      | elapsed:    1.2s\n",
      "[Parallel(n_jobs=-1)]: Done  24 tasks      | elapsed:    1.2s\n",
      "[Parallel(n_jobs=-1)]: Done  25 tasks      | elapsed:    1.3s\n",
      "[Parallel(n_jobs=-1)]: Done  26 tasks      | elapsed:    1.3s\n",
      "[Parallel(n_jobs=-1)]: Done  27 tasks      | elapsed:    1.3s\n",
      "[Parallel(n_jobs=-1)]: Done  28 tasks      | elapsed:    1.3s\n",
      "[Parallel(n_jobs=-1)]: Done  29 tasks      | elapsed:    1.3s\n",
      "[Parallel(n_jobs=-1)]: Done  30 tasks      | elapsed:    1.3s\n",
      "[Parallel(n_jobs=-1)]: Done  31 tasks      | elapsed:    1.4s\n",
      "[Parallel(n_jobs=-1)]: Done  32 tasks      | elapsed:    1.4s\n",
      "[Parallel(n_jobs=-1)]: Done  33 tasks      | elapsed:    1.5s\n",
      "[Parallel(n_jobs=-1)]: Done  34 tasks      | elapsed:    1.6s\n",
      "[Parallel(n_jobs=-1)]: Done  35 tasks      | elapsed:    1.6s\n",
      "[Parallel(n_jobs=-1)]: Done  36 tasks      | elapsed:    1.6s\n",
      "[Parallel(n_jobs=-1)]: Done  37 tasks      | elapsed:    1.6s\n",
      "[Parallel(n_jobs=-1)]: Done  38 tasks      | elapsed:    1.8s\n",
      "[Parallel(n_jobs=-1)]: Done  39 tasks      | elapsed:    1.8s\n",
      "[Parallel(n_jobs=-1)]: Done  40 tasks      | elapsed:    1.8s\n",
      "[Parallel(n_jobs=-1)]: Done  41 tasks      | elapsed:    1.9s\n",
      "[Parallel(n_jobs=-1)]: Done  42 tasks      | elapsed:    1.9s\n",
      "[Parallel(n_jobs=-1)]: Done  43 tasks      | elapsed:    2.0s\n",
      "[Parallel(n_jobs=-1)]: Done  44 tasks      | elapsed:    2.0s\n",
      "[Parallel(n_jobs=-1)]: Done  45 tasks      | elapsed:    2.1s\n",
      "[Parallel(n_jobs=-1)]: Done  46 tasks      | elapsed:    2.1s\n",
      "[Parallel(n_jobs=-1)]: Done  47 tasks      | elapsed:    2.2s\n",
      "[Parallel(n_jobs=-1)]: Done  48 tasks      | elapsed:    2.2s\n",
      "[Parallel(n_jobs=-1)]: Done  49 tasks      | elapsed:    2.2s\n",
      "[Parallel(n_jobs=-1)]: Done  50 tasks      | elapsed:    2.2s\n",
      "[Parallel(n_jobs=-1)]: Done  51 tasks      | elapsed:    2.3s\n",
      "[Parallel(n_jobs=-1)]: Done  52 tasks      | elapsed:    2.3s\n",
      "[Parallel(n_jobs=-1)]: Done  53 tasks      | elapsed:    2.3s\n",
      "[Parallel(n_jobs=-1)]: Done  54 tasks      | elapsed:    2.4s\n",
      "[Parallel(n_jobs=-1)]: Done  55 tasks      | elapsed:    2.4s\n",
      "[Parallel(n_jobs=-1)]: Done  56 tasks      | elapsed:    2.4s\n",
      "[Parallel(n_jobs=-1)]: Done  57 tasks      | elapsed:    2.5s\n",
      "[Parallel(n_jobs=-1)]: Done  58 tasks      | elapsed:    2.5s\n",
      "[Parallel(n_jobs=-1)]: Done  59 tasks      | elapsed:    2.6s\n",
      "[Parallel(n_jobs=-1)]: Done  60 tasks      | elapsed:    2.6s\n",
      "[Parallel(n_jobs=-1)]: Done  61 tasks      | elapsed:    2.6s\n",
      "[Parallel(n_jobs=-1)]: Done  62 tasks      | elapsed:    2.6s\n",
      "[Parallel(n_jobs=-1)]: Done  63 tasks      | elapsed:    2.6s\n",
      "[Parallel(n_jobs=-1)]: Done  64 tasks      | elapsed:    2.7s\n",
      "[Parallel(n_jobs=-1)]: Done  65 tasks      | elapsed:    2.7s\n",
      "[Parallel(n_jobs=-1)]: Done  66 tasks      | elapsed:    2.7s\n",
      "[Parallel(n_jobs=-1)]: Done  67 tasks      | elapsed:    2.7s\n",
      "[Parallel(n_jobs=-1)]: Done  68 tasks      | elapsed:    2.8s\n",
      "[Parallel(n_jobs=-1)]: Done  69 tasks      | elapsed:    2.9s\n",
      "[Parallel(n_jobs=-1)]: Done  70 tasks      | elapsed:    2.9s\n",
      "[Parallel(n_jobs=-1)]: Done  71 tasks      | elapsed:    3.0s\n",
      "[Parallel(n_jobs=-1)]: Done  72 tasks      | elapsed:    3.0s\n",
      "[Parallel(n_jobs=-1)]: Done  73 tasks      | elapsed:    3.1s\n",
      "[Parallel(n_jobs=-1)]: Done  74 tasks      | elapsed:    3.1s\n",
      "[Parallel(n_jobs=-1)]: Done  75 tasks      | elapsed:    3.1s\n",
      "[Parallel(n_jobs=-1)]: Done  76 tasks      | elapsed:    3.2s\n",
      "[Parallel(n_jobs=-1)]: Done  77 tasks      | elapsed:    3.2s\n",
      "[Parallel(n_jobs=-1)]: Done  83 out of 100 | elapsed:    3.5s remaining:    0.7s\n",
      "[Parallel(n_jobs=-1)]: Done  89 out of 100 | elapsed:    3.6s remaining:    0.4s\n",
      "[Parallel(n_jobs=-1)]: Done  95 out of 100 | elapsed:    3.8s remaining:    0.2s\n",
      "[Parallel(n_jobs=-1)]: Done 100 out of 100 | elapsed:    3.9s finished\n"
     ]
    },
    {
     "data": {
      "text/plain": [
       "GridSearchCV(cv=10, error_score='raise-deprecating',\n",
       "       estimator=Ridge(alpha=1.0, copy_X=True, fit_intercept=True, max_iter=None,\n",
       "   normalize=False, random_state=None, solver='auto', tol=0.001),\n",
       "       fit_params=None, iid='warn', n_jobs=-1,\n",
       "       param_grid={'alpha': array([ 10000.,  20000.,  30000.,  40000.,  50000.,  60000.,  70000.,\n",
       "        80000.,  90000., 100000.])},\n",
       "       pre_dispatch='2*n_jobs', refit=True, return_train_score='warn',\n",
       "       scoring='neg_mean_absolute_error', verbose=20)"
      ]
     },
     "execution_count": 35,
     "metadata": {},
     "output_type": "execute_result"
    }
   ],
   "source": [
    "grid_search.fit(x_train,y_train)"
   ]
  },
  {
   "cell_type": "code",
   "execution_count": 36,
   "metadata": {},
   "outputs": [
    {
     "name": "stdout",
     "output_type": "stream",
     "text": [
      "Model with rank: 1\n",
      "Mean validation score: -8.351 (std: 1.103)\n",
      "Parameters: {'alpha': 100000.0}\n",
      "\n",
      "Model with rank: 2\n",
      "Mean validation score: -8.353 (std: 1.102)\n",
      "Parameters: {'alpha': 90000.0}\n",
      "\n",
      "Model with rank: 3\n",
      "Mean validation score: -8.356 (std: 1.101)\n",
      "Parameters: {'alpha': 80000.0}\n",
      "\n",
      "Model with rank: 4\n",
      "Mean validation score: -8.360 (std: 1.100)\n",
      "Parameters: {'alpha': 70000.0}\n",
      "\n",
      "Model with rank: 5\n",
      "Mean validation score: -8.363 (std: 1.100)\n",
      "Parameters: {'alpha': 60000.0}\n",
      "\n"
     ]
    }
   ],
   "source": [
    "report(grid_search.cv_results_,5)"
   ]
  },
  {
   "cell_type": "code",
   "execution_count": 37,
   "metadata": {},
   "outputs": [],
   "source": [
    "# so far the performance of lasso seems to be the best cv MAE being 6.948"
   ]
  },
  {
   "cell_type": "code",
   "execution_count": 38,
   "metadata": {},
   "outputs": [],
   "source": [
    "## positive predictions only , use log(target) as the target and reverse transform \n",
    "# for getting original target predictions"
   ]
  },
  {
   "cell_type": "code",
   "execution_count": 39,
   "metadata": {},
   "outputs": [],
   "source": [
    "y_train=np.log(y_train+100) # for avoiding log(0)"
   ]
  },
  {
   "cell_type": "code",
   "execution_count": 40,
   "metadata": {},
   "outputs": [],
   "source": [
    "model_lasso=Lasso(fit_intercept=True)"
   ]
  },
  {
   "cell_type": "code",
   "execution_count": 41,
   "metadata": {},
   "outputs": [],
   "source": [
    "alpha=np.linspace(0,10,10)"
   ]
  },
  {
   "cell_type": "code",
   "execution_count": 42,
   "metadata": {},
   "outputs": [],
   "source": [
    "params={'alpha':alpha}"
   ]
  },
  {
   "cell_type": "code",
   "execution_count": 43,
   "metadata": {},
   "outputs": [],
   "source": [
    "grid_search=GridSearchCV(model_lasso,cv=10,scoring='neg_mean_absolute_error',\n",
    "                         verbose=20,n_jobs=-1,param_grid=params)"
   ]
  },
  {
   "cell_type": "code",
   "execution_count": 44,
   "metadata": {},
   "outputs": [
    {
     "name": "stderr",
     "output_type": "stream",
     "text": [
      "[Parallel(n_jobs=-1)]: Using backend LokyBackend with 12 concurrent workers.\n"
     ]
    },
    {
     "name": "stdout",
     "output_type": "stream",
     "text": [
      "Fitting 10 folds for each of 10 candidates, totalling 100 fits\n"
     ]
    },
    {
     "name": "stderr",
     "output_type": "stream",
     "text": [
      "[Parallel(n_jobs=-1)]: Done   1 tasks      | elapsed:    1.5s\n",
      "[Parallel(n_jobs=-1)]: Done   2 tasks      | elapsed:    1.5s\n",
      "[Parallel(n_jobs=-1)]: Done   3 tasks      | elapsed:    2.5s\n",
      "[Parallel(n_jobs=-1)]: Done   4 tasks      | elapsed:    2.5s\n",
      "[Parallel(n_jobs=-1)]: Done   5 tasks      | elapsed:    4.1s\n",
      "[Parallel(n_jobs=-1)]: Done   6 tasks      | elapsed:    4.2s\n",
      "[Parallel(n_jobs=-1)]: Done   7 tasks      | elapsed:    5.3s\n",
      "[Parallel(n_jobs=-1)]: Done   8 tasks      | elapsed:    5.4s\n",
      "[Parallel(n_jobs=-1)]: Done   9 tasks      | elapsed:    6.1s\n",
      "[Parallel(n_jobs=-1)]: Done  10 tasks      | elapsed:    6.3s\n",
      "[Parallel(n_jobs=-1)]: Done  11 tasks      | elapsed:    7.0s\n",
      "[Parallel(n_jobs=-1)]: Done  12 tasks      | elapsed:    7.3s\n",
      "[Parallel(n_jobs=-1)]: Done  13 tasks      | elapsed:    7.9s\n",
      "[Parallel(n_jobs=-1)]: Done  14 tasks      | elapsed:    8.0s\n",
      "[Parallel(n_jobs=-1)]: Done  15 tasks      | elapsed:    8.6s\n",
      "[Parallel(n_jobs=-1)]: Done  16 tasks      | elapsed:    8.7s\n",
      "[Parallel(n_jobs=-1)]: Done  17 tasks      | elapsed:    9.8s\n",
      "[Parallel(n_jobs=-1)]: Done  18 tasks      | elapsed:    9.9s\n",
      "[Parallel(n_jobs=-1)]: Done  19 tasks      | elapsed:   11.2s\n",
      "[Parallel(n_jobs=-1)]: Done  20 tasks      | elapsed:   11.3s\n",
      "[Parallel(n_jobs=-1)]: Done  21 tasks      | elapsed:   11.8s\n",
      "[Parallel(n_jobs=-1)]: Done  22 tasks      | elapsed:   11.8s\n",
      "[Parallel(n_jobs=-1)]: Done  23 tasks      | elapsed:   12.4s\n",
      "[Parallel(n_jobs=-1)]: Done  24 tasks      | elapsed:   12.5s\n",
      "[Parallel(n_jobs=-1)]: Done  25 tasks      | elapsed:   13.1s\n",
      "[Parallel(n_jobs=-1)]: Done  26 tasks      | elapsed:   13.2s\n",
      "[Parallel(n_jobs=-1)]: Done  27 tasks      | elapsed:   13.8s\n",
      "[Parallel(n_jobs=-1)]: Done  28 tasks      | elapsed:   14.1s\n",
      "[Parallel(n_jobs=-1)]: Done  29 tasks      | elapsed:   14.5s\n",
      "[Parallel(n_jobs=-1)]: Done  30 tasks      | elapsed:   14.6s\n",
      "[Parallel(n_jobs=-1)]: Done  31 tasks      | elapsed:   15.3s\n",
      "[Parallel(n_jobs=-1)]: Done  32 tasks      | elapsed:   15.5s\n",
      "[Parallel(n_jobs=-1)]: Done  33 tasks      | elapsed:   16.2s\n",
      "[Parallel(n_jobs=-1)]: Done  34 tasks      | elapsed:   16.3s\n",
      "[Parallel(n_jobs=-1)]: Done  35 tasks      | elapsed:   17.0s\n",
      "[Parallel(n_jobs=-1)]: Done  36 tasks      | elapsed:   17.2s\n",
      "[Parallel(n_jobs=-1)]: Done  37 tasks      | elapsed:   18.0s\n",
      "[Parallel(n_jobs=-1)]: Done  38 tasks      | elapsed:   18.5s\n",
      "[Parallel(n_jobs=-1)]: Done  39 tasks      | elapsed:   18.9s\n",
      "[Parallel(n_jobs=-1)]: Done  40 tasks      | elapsed:   19.2s\n",
      "[Parallel(n_jobs=-1)]: Done  41 tasks      | elapsed:   19.5s\n",
      "[Parallel(n_jobs=-1)]: Done  42 tasks      | elapsed:   19.9s\n",
      "[Parallel(n_jobs=-1)]: Done  43 tasks      | elapsed:   20.2s\n",
      "[Parallel(n_jobs=-1)]: Done  44 tasks      | elapsed:   20.6s\n",
      "[Parallel(n_jobs=-1)]: Done  45 tasks      | elapsed:   20.9s\n",
      "[Parallel(n_jobs=-1)]: Done  46 tasks      | elapsed:   21.3s\n",
      "[Parallel(n_jobs=-1)]: Done  47 tasks      | elapsed:   21.7s\n",
      "[Parallel(n_jobs=-1)]: Done  48 tasks      | elapsed:   22.2s\n",
      "[Parallel(n_jobs=-1)]: Done  49 tasks      | elapsed:   22.3s\n",
      "[Parallel(n_jobs=-1)]: Done  50 tasks      | elapsed:   22.8s\n",
      "[Parallel(n_jobs=-1)]: Done  51 tasks      | elapsed:   22.9s\n",
      "[Parallel(n_jobs=-1)]: Done  52 tasks      | elapsed:   23.4s\n",
      "[Parallel(n_jobs=-1)]: Done  53 tasks      | elapsed:   23.5s\n",
      "[Parallel(n_jobs=-1)]: Done  54 tasks      | elapsed:   24.1s\n",
      "[Parallel(n_jobs=-1)]: Done  55 tasks      | elapsed:   24.2s\n",
      "[Parallel(n_jobs=-1)]: Done  56 tasks      | elapsed:   24.9s\n",
      "[Parallel(n_jobs=-1)]: Done  57 tasks      | elapsed:   25.2s\n",
      "[Parallel(n_jobs=-1)]: Done  58 tasks      | elapsed:   26.3s\n",
      "[Parallel(n_jobs=-1)]: Done  59 tasks      | elapsed:   26.3s\n",
      "[Parallel(n_jobs=-1)]: Done  60 tasks      | elapsed:   26.8s\n",
      "[Parallel(n_jobs=-1)]: Done  61 tasks      | elapsed:   26.9s\n",
      "[Parallel(n_jobs=-1)]: Done  62 tasks      | elapsed:   27.3s\n",
      "[Parallel(n_jobs=-1)]: Done  63 tasks      | elapsed:   27.4s\n",
      "[Parallel(n_jobs=-1)]: Done  64 tasks      | elapsed:   28.0s\n",
      "[Parallel(n_jobs=-1)]: Done  65 tasks      | elapsed:   28.1s\n",
      "[Parallel(n_jobs=-1)]: Done  66 tasks      | elapsed:   28.6s\n",
      "[Parallel(n_jobs=-1)]: Done  67 tasks      | elapsed:   28.8s\n",
      "[Parallel(n_jobs=-1)]: Done  68 tasks      | elapsed:   29.5s\n",
      "[Parallel(n_jobs=-1)]: Done  69 tasks      | elapsed:   29.6s\n",
      "[Parallel(n_jobs=-1)]: Done  70 tasks      | elapsed:   30.1s\n",
      "[Parallel(n_jobs=-1)]: Done  71 tasks      | elapsed:   30.4s\n",
      "[Parallel(n_jobs=-1)]: Done  72 tasks      | elapsed:   31.0s\n",
      "[Parallel(n_jobs=-1)]: Done  73 tasks      | elapsed:   31.0s\n",
      "[Parallel(n_jobs=-1)]: Done  74 tasks      | elapsed:   31.7s\n",
      "[Parallel(n_jobs=-1)]: Done  75 tasks      | elapsed:   31.7s\n",
      "[Parallel(n_jobs=-1)]: Done  76 tasks      | elapsed:   32.4s\n",
      "[Parallel(n_jobs=-1)]: Done  77 tasks      | elapsed:   32.4s\n",
      "[Parallel(n_jobs=-1)]: Done  83 out of 100 | elapsed:   33.2s remaining:    6.8s\n",
      "[Parallel(n_jobs=-1)]: Done  89 out of 100 | elapsed:   33.5s remaining:    4.1s\n",
      "[Parallel(n_jobs=-1)]: Done  95 out of 100 | elapsed:   34.1s remaining:    1.8s\n",
      "[Parallel(n_jobs=-1)]: Done 100 out of 100 | elapsed:   34.2s finished\n"
     ]
    },
    {
     "data": {
      "text/plain": [
       "GridSearchCV(cv=10, error_score='raise-deprecating',\n",
       "       estimator=Lasso(alpha=1.0, copy_X=True, fit_intercept=True, max_iter=1000,\n",
       "   normalize=False, positive=False, precompute=False, random_state=None,\n",
       "   selection='cyclic', tol=0.0001, warm_start=False),\n",
       "       fit_params=None, iid='warn', n_jobs=-1,\n",
       "       param_grid={'alpha': array([ 0.     ,  1.11111,  2.22222,  3.33333,  4.44444,  5.55556,\n",
       "        6.66667,  7.77778,  8.88889, 10.     ])},\n",
       "       pre_dispatch='2*n_jobs', refit=True, return_train_score='warn',\n",
       "       scoring='neg_mean_absolute_error', verbose=20)"
      ]
     },
     "execution_count": 44,
     "metadata": {},
     "output_type": "execute_result"
    }
   ],
   "source": [
    "grid_search.fit(x_train,y_train)"
   ]
  },
  {
   "cell_type": "code",
   "execution_count": 45,
   "metadata": {},
   "outputs": [
    {
     "name": "stdout",
     "output_type": "stream",
     "text": [
      "Model with rank: 1\n",
      "Mean validation score: -0.047 (std: 0.007)\n",
      "Parameters: {'alpha': 1.1111111111111112}\n",
      "\n",
      "Model with rank: 2\n",
      "Mean validation score: -0.049 (std: 0.007)\n",
      "Parameters: {'alpha': 2.2222222222222223}\n",
      "\n",
      "Model with rank: 3\n",
      "Mean validation score: -0.050 (std: 0.005)\n",
      "Parameters: {'alpha': 0.0}\n",
      "\n",
      "Model with rank: 4\n",
      "Mean validation score: -0.053 (std: 0.008)\n",
      "Parameters: {'alpha': 3.3333333333333335}\n",
      "\n",
      "Model with rank: 5\n",
      "Mean validation score: -0.057 (std: 0.008)\n",
      "Parameters: {'alpha': 4.444444444444445}\n",
      "\n"
     ]
    }
   ],
   "source": [
    "report(grid_search.cv_results_,5) # error value here is not equivalent to what we were seeing earlier "
   ]
  },
  {
   "cell_type": "code",
   "execution_count": 46,
   "metadata": {},
   "outputs": [],
   "source": [
    "original_predictions=np.exp(grid_search.predict(x_train))-100"
   ]
  },
  {
   "cell_type": "code",
   "execution_count": 47,
   "metadata": {},
   "outputs": [
    {
     "data": {
      "text/plain": [
       "43"
      ]
     },
     "execution_count": 47,
     "metadata": {},
     "output_type": "execute_result"
    }
   ],
   "source": [
    "(original_predictions<0).sum() # there are still few negative preds becasue of -100\n",
    "# in practice you can actually set them to be zero "
   ]
  },
  {
   "cell_type": "code",
   "execution_count": 48,
   "metadata": {},
   "outputs": [
    {
     "data": {
      "text/plain": [
       "6.685280621766945"
      ]
     },
     "execution_count": 48,
     "metadata": {},
     "output_type": "execute_result"
    }
   ],
   "source": [
    "np.mean(abs(df[target]-original_predictions))"
   ]
  },
  {
   "cell_type": "code",
   "execution_count": 49,
   "metadata": {},
   "outputs": [
    {
     "data": {
      "text/plain": [
       "6.685186760258289"
      ]
     },
     "execution_count": 49,
     "metadata": {},
     "output_type": "execute_result"
    }
   ],
   "source": [
    "np.mean(abs(df[target]-np.where(original_predictions<0,0,original_predictions)))"
   ]
  },
  {
   "cell_type": "code",
   "execution_count": null,
   "metadata": {},
   "outputs": [],
   "source": []
  }
 ],
 "metadata": {
  "anaconda-cloud": {},
  "kernelspec": {
   "display_name": "Python 3",
   "language": "python",
   "name": "python3"
  },
  "language_info": {
   "codemirror_mode": {
    "name": "ipython",
    "version": 3
   },
   "file_extension": ".py",
   "mimetype": "text/x-python",
   "name": "python",
   "nbconvert_exporter": "python",
   "pygments_lexer": "ipython3",
   "version": "3.8.5"
  }
 },
 "nbformat": 4,
 "nbformat_minor": 1
}
